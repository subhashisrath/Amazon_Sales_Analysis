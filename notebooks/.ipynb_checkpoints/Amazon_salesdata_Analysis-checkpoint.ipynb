{
 "cells": [
  {
   "cell_type": "markdown",
   "id": "8376d616",
   "metadata": {},
   "source": [
    "# Amazon Sales Data Analysis Project\n",
    "\n",
    "## Objective  \n",
    "To analyze Amazon sales data to identify trends, key performance metrics,  \n",
    "and actionable insights that can enhance business decision-making.    \n",
    "\n",
    "The goal is to optimize sales performance and improve customer satisfaction.  \n",
    "\n",
    "---\n",
    "##  Data Overview  \n",
    "- **Dataset Description:**  \n",
    "  - Source of the data  - Kaggle\n",
    "  \n",
    "  ### Column Descriptions:\n",
    "\n",
    "- **Category**: Type of product. *(String)*\n",
    "- **Size**: Size of the product. *(String)*\n",
    "- **Date**: Date of the sale. *(Date)*\n",
    "- **Status**: Status of the sale. *(String)*\n",
    "- **Fulfilment**: Method of fulfilment. *(String)*\n",
    "- **Style**: Style of the product. *(String)*\n",
    "- **SKU**: Stock Keeping Unit. *(String)*\n",
    "- **ASIN**: Amazon Standard Identification Number. *(String)*\n",
    "- **Courier Status**: Status of the courier. *(String)*\n",
    "- **Qty**: Quantity of the product. *(Integer)*\n",
    "- **Amount**: Amount of the sale. *(Float)*\n",
    "- **B2B**: Business to business sale. *(Boolean)*\n",
    "- **Currency**: The currency used for the sale. *(String)*  \n",
    "    \n",
    "  - Known issues (e.g., missing values, duplicates)  \n",
    "\n",
    "---\n"
   ]
  },
  {
   "cell_type": "code",
   "execution_count": 1,
   "id": "3b0b0eb0",
   "metadata": {},
   "outputs": [],
   "source": [
    "import numpy as np\n",
    "import pandas as pd\n",
    "import matplotlib.pyplot as plt\n",
    "import seaborn as sns\n",
    "\n",
    "import warnings\n",
    "warnings.filterwarnings('ignore')"
   ]
  },
  {
   "cell_type": "markdown",
   "id": "02e9e993",
   "metadata": {},
   "source": [
    "##  Data Loading & Preprocessing  \n",
    "- Load the dataset  \n",
    "- Handle missing values  \n",
    "- Data type corrections  \n",
    "- Removing duplicates  \n",
    "\n",
    "---"
   ]
  },
  {
   "cell_type": "markdown",
   "id": "3c4402dc",
   "metadata": {},
   "source": [
    "### 1. Load the dataset\n",
    " - Exploration of the dataset"
   ]
  },
  {
   "cell_type": "code",
   "execution_count": 2,
   "id": "67b78a4d",
   "metadata": {},
   "outputs": [
    {
     "data": {
      "text/html": [
       "<div>\n",
       "<style scoped>\n",
       "    .dataframe tbody tr th:only-of-type {\n",
       "        vertical-align: middle;\n",
       "    }\n",
       "\n",
       "    .dataframe tbody tr th {\n",
       "        vertical-align: top;\n",
       "    }\n",
       "\n",
       "    .dataframe thead th {\n",
       "        text-align: right;\n",
       "    }\n",
       "</style>\n",
       "<table border=\"1\" class=\"dataframe\">\n",
       "  <thead>\n",
       "    <tr style=\"text-align: right;\">\n",
       "      <th></th>\n",
       "      <th>index</th>\n",
       "      <th>Order ID</th>\n",
       "      <th>Date</th>\n",
       "      <th>Status</th>\n",
       "      <th>Fulfilment</th>\n",
       "      <th>Sales Channel</th>\n",
       "      <th>ship-service-level</th>\n",
       "      <th>Style</th>\n",
       "      <th>SKU</th>\n",
       "      <th>Category</th>\n",
       "      <th>...</th>\n",
       "      <th>currency</th>\n",
       "      <th>Amount</th>\n",
       "      <th>ship-city</th>\n",
       "      <th>ship-state</th>\n",
       "      <th>ship-postal-code</th>\n",
       "      <th>ship-country</th>\n",
       "      <th>promotion-ids</th>\n",
       "      <th>B2B</th>\n",
       "      <th>fulfilled-by</th>\n",
       "      <th>Unnamed: 22</th>\n",
       "    </tr>\n",
       "  </thead>\n",
       "  <tbody>\n",
       "    <tr>\n",
       "      <th>0</th>\n",
       "      <td>0</td>\n",
       "      <td>405-8078784-5731545</td>\n",
       "      <td>04-30-22</td>\n",
       "      <td>Cancelled</td>\n",
       "      <td>Merchant</td>\n",
       "      <td>Amazon.in</td>\n",
       "      <td>Standard</td>\n",
       "      <td>SET389</td>\n",
       "      <td>SET389-KR-NP-S</td>\n",
       "      <td>Set</td>\n",
       "      <td>...</td>\n",
       "      <td>INR</td>\n",
       "      <td>647.62</td>\n",
       "      <td>MUMBAI</td>\n",
       "      <td>MAHARASHTRA</td>\n",
       "      <td>400081.0</td>\n",
       "      <td>IN</td>\n",
       "      <td>NaN</td>\n",
       "      <td>False</td>\n",
       "      <td>Easy Ship</td>\n",
       "      <td>NaN</td>\n",
       "    </tr>\n",
       "    <tr>\n",
       "      <th>1</th>\n",
       "      <td>1</td>\n",
       "      <td>171-9198151-1101146</td>\n",
       "      <td>04-30-22</td>\n",
       "      <td>Shipped - Delivered to Buyer</td>\n",
       "      <td>Merchant</td>\n",
       "      <td>Amazon.in</td>\n",
       "      <td>Standard</td>\n",
       "      <td>JNE3781</td>\n",
       "      <td>JNE3781-KR-XXXL</td>\n",
       "      <td>kurta</td>\n",
       "      <td>...</td>\n",
       "      <td>INR</td>\n",
       "      <td>406.00</td>\n",
       "      <td>BENGALURU</td>\n",
       "      <td>KARNATAKA</td>\n",
       "      <td>560085.0</td>\n",
       "      <td>IN</td>\n",
       "      <td>Amazon PLCC Free-Financing Universal Merchant ...</td>\n",
       "      <td>False</td>\n",
       "      <td>Easy Ship</td>\n",
       "      <td>NaN</td>\n",
       "    </tr>\n",
       "    <tr>\n",
       "      <th>2</th>\n",
       "      <td>2</td>\n",
       "      <td>404-0687676-7273146</td>\n",
       "      <td>04-30-22</td>\n",
       "      <td>Shipped</td>\n",
       "      <td>Amazon</td>\n",
       "      <td>Amazon.in</td>\n",
       "      <td>Expedited</td>\n",
       "      <td>JNE3371</td>\n",
       "      <td>JNE3371-KR-XL</td>\n",
       "      <td>kurta</td>\n",
       "      <td>...</td>\n",
       "      <td>INR</td>\n",
       "      <td>329.00</td>\n",
       "      <td>NAVI MUMBAI</td>\n",
       "      <td>MAHARASHTRA</td>\n",
       "      <td>410210.0</td>\n",
       "      <td>IN</td>\n",
       "      <td>IN Core Free Shipping 2015/04/08 23-48-5-108</td>\n",
       "      <td>True</td>\n",
       "      <td>NaN</td>\n",
       "      <td>NaN</td>\n",
       "    </tr>\n",
       "    <tr>\n",
       "      <th>3</th>\n",
       "      <td>3</td>\n",
       "      <td>403-9615377-8133951</td>\n",
       "      <td>04-30-22</td>\n",
       "      <td>Cancelled</td>\n",
       "      <td>Merchant</td>\n",
       "      <td>Amazon.in</td>\n",
       "      <td>Standard</td>\n",
       "      <td>J0341</td>\n",
       "      <td>J0341-DR-L</td>\n",
       "      <td>Western Dress</td>\n",
       "      <td>...</td>\n",
       "      <td>INR</td>\n",
       "      <td>753.33</td>\n",
       "      <td>PUDUCHERRY</td>\n",
       "      <td>PUDUCHERRY</td>\n",
       "      <td>605008.0</td>\n",
       "      <td>IN</td>\n",
       "      <td>NaN</td>\n",
       "      <td>False</td>\n",
       "      <td>Easy Ship</td>\n",
       "      <td>NaN</td>\n",
       "    </tr>\n",
       "    <tr>\n",
       "      <th>4</th>\n",
       "      <td>4</td>\n",
       "      <td>407-1069790-7240320</td>\n",
       "      <td>04-30-22</td>\n",
       "      <td>Shipped</td>\n",
       "      <td>Amazon</td>\n",
       "      <td>Amazon.in</td>\n",
       "      <td>Expedited</td>\n",
       "      <td>JNE3671</td>\n",
       "      <td>JNE3671-TU-XXXL</td>\n",
       "      <td>Top</td>\n",
       "      <td>...</td>\n",
       "      <td>INR</td>\n",
       "      <td>574.00</td>\n",
       "      <td>CHENNAI</td>\n",
       "      <td>TAMIL NADU</td>\n",
       "      <td>600073.0</td>\n",
       "      <td>IN</td>\n",
       "      <td>NaN</td>\n",
       "      <td>False</td>\n",
       "      <td>NaN</td>\n",
       "      <td>NaN</td>\n",
       "    </tr>\n",
       "  </tbody>\n",
       "</table>\n",
       "<p>5 rows × 24 columns</p>\n",
       "</div>"
      ],
      "text/plain": [
       "   index             Order ID      Date                        Status  \\\n",
       "0      0  405-8078784-5731545  04-30-22                     Cancelled   \n",
       "1      1  171-9198151-1101146  04-30-22  Shipped - Delivered to Buyer   \n",
       "2      2  404-0687676-7273146  04-30-22                       Shipped   \n",
       "3      3  403-9615377-8133951  04-30-22                     Cancelled   \n",
       "4      4  407-1069790-7240320  04-30-22                       Shipped   \n",
       "\n",
       "  Fulfilment Sales Channel  ship-service-level    Style              SKU  \\\n",
       "0   Merchant      Amazon.in           Standard   SET389   SET389-KR-NP-S   \n",
       "1   Merchant      Amazon.in           Standard  JNE3781  JNE3781-KR-XXXL   \n",
       "2     Amazon      Amazon.in          Expedited  JNE3371    JNE3371-KR-XL   \n",
       "3   Merchant      Amazon.in           Standard    J0341       J0341-DR-L   \n",
       "4     Amazon      Amazon.in          Expedited  JNE3671  JNE3671-TU-XXXL   \n",
       "\n",
       "        Category  ... currency  Amount    ship-city   ship-state  \\\n",
       "0            Set  ...      INR  647.62       MUMBAI  MAHARASHTRA   \n",
       "1          kurta  ...      INR  406.00    BENGALURU    KARNATAKA   \n",
       "2          kurta  ...      INR  329.00  NAVI MUMBAI  MAHARASHTRA   \n",
       "3  Western Dress  ...      INR  753.33   PUDUCHERRY   PUDUCHERRY   \n",
       "4            Top  ...      INR  574.00      CHENNAI   TAMIL NADU   \n",
       "\n",
       "  ship-postal-code  ship-country  \\\n",
       "0         400081.0            IN   \n",
       "1         560085.0            IN   \n",
       "2         410210.0            IN   \n",
       "3         605008.0            IN   \n",
       "4         600073.0            IN   \n",
       "\n",
       "                                       promotion-ids    B2B  fulfilled-by  \\\n",
       "0                                                NaN  False     Easy Ship   \n",
       "1  Amazon PLCC Free-Financing Universal Merchant ...  False     Easy Ship   \n",
       "2       IN Core Free Shipping 2015/04/08 23-48-5-108   True           NaN   \n",
       "3                                                NaN  False     Easy Ship   \n",
       "4                                                NaN  False           NaN   \n",
       "\n",
       "  Unnamed: 22  \n",
       "0         NaN  \n",
       "1         NaN  \n",
       "2         NaN  \n",
       "3         NaN  \n",
       "4         NaN  \n",
       "\n",
       "[5 rows x 24 columns]"
      ]
     },
     "execution_count": 2,
     "metadata": {},
     "output_type": "execute_result"
    }
   ],
   "source": [
    "amazon_df = pd.read_csv('F:/Amazon_Sales_Analysis/data/raw/Amazon Sale Report.csv', low_memory = False)\n",
    "amazon_df.head()"
   ]
  },
  {
   "cell_type": "code",
   "execution_count": 3,
   "id": "d7f7acdd",
   "metadata": {},
   "outputs": [
    {
     "name": "stdout",
     "output_type": "stream",
     "text": [
      "<class 'pandas.core.frame.DataFrame'>\n",
      "RangeIndex: 128975 entries, 0 to 128974\n",
      "Data columns (total 24 columns):\n",
      " #   Column              Non-Null Count   Dtype  \n",
      "---  ------              --------------   -----  \n",
      " 0   index               128975 non-null  int64  \n",
      " 1   Order ID            128975 non-null  object \n",
      " 2   Date                128975 non-null  object \n",
      " 3   Status              128975 non-null  object \n",
      " 4   Fulfilment          128975 non-null  object \n",
      " 5   Sales Channel       128975 non-null  object \n",
      " 6   ship-service-level  128975 non-null  object \n",
      " 7   Style               128975 non-null  object \n",
      " 8   SKU                 128975 non-null  object \n",
      " 9   Category            128975 non-null  object \n",
      " 10  Size                128975 non-null  object \n",
      " 11  ASIN                128975 non-null  object \n",
      " 12  Courier Status      122103 non-null  object \n",
      " 13  Qty                 128975 non-null  int64  \n",
      " 14  currency            121180 non-null  object \n",
      " 15  Amount              121180 non-null  float64\n",
      " 16  ship-city           128942 non-null  object \n",
      " 17  ship-state          128942 non-null  object \n",
      " 18  ship-postal-code    128942 non-null  float64\n",
      " 19  ship-country        128942 non-null  object \n",
      " 20  promotion-ids       79822 non-null   object \n",
      " 21  B2B                 128975 non-null  bool   \n",
      " 22  fulfilled-by        39277 non-null   object \n",
      " 23  Unnamed: 22         79925 non-null   object \n",
      "dtypes: bool(1), float64(2), int64(2), object(19)\n",
      "memory usage: 22.8+ MB\n"
     ]
    }
   ],
   "source": [
    "amazon_df.info()"
   ]
  },
  {
   "cell_type": "code",
   "execution_count": 4,
   "id": "73aa4d2a",
   "metadata": {},
   "outputs": [
    {
     "data": {
      "text/html": [
       "<div>\n",
       "<style scoped>\n",
       "    .dataframe tbody tr th:only-of-type {\n",
       "        vertical-align: middle;\n",
       "    }\n",
       "\n",
       "    .dataframe tbody tr th {\n",
       "        vertical-align: top;\n",
       "    }\n",
       "\n",
       "    .dataframe thead th {\n",
       "        text-align: right;\n",
       "    }\n",
       "</style>\n",
       "<table border=\"1\" class=\"dataframe\">\n",
       "  <thead>\n",
       "    <tr style=\"text-align: right;\">\n",
       "      <th></th>\n",
       "      <th>Order ID</th>\n",
       "      <th>Date</th>\n",
       "      <th>Status</th>\n",
       "      <th>Fulfilment</th>\n",
       "      <th>Sales Channel</th>\n",
       "      <th>ship-service-level</th>\n",
       "      <th>Style</th>\n",
       "      <th>SKU</th>\n",
       "      <th>Category</th>\n",
       "      <th>Size</th>\n",
       "      <th>...</th>\n",
       "      <th>currency</th>\n",
       "      <th>Amount</th>\n",
       "      <th>ship-city</th>\n",
       "      <th>ship-state</th>\n",
       "      <th>ship-postal-code</th>\n",
       "      <th>ship-country</th>\n",
       "      <th>promotion-ids</th>\n",
       "      <th>B2B</th>\n",
       "      <th>fulfilled-by</th>\n",
       "      <th>Unnamed: 22</th>\n",
       "    </tr>\n",
       "  </thead>\n",
       "  <tbody>\n",
       "    <tr>\n",
       "      <th>0</th>\n",
       "      <td>405-8078784-5731545</td>\n",
       "      <td>04-30-22</td>\n",
       "      <td>Cancelled</td>\n",
       "      <td>Merchant</td>\n",
       "      <td>Amazon.in</td>\n",
       "      <td>Standard</td>\n",
       "      <td>SET389</td>\n",
       "      <td>SET389-KR-NP-S</td>\n",
       "      <td>Set</td>\n",
       "      <td>S</td>\n",
       "      <td>...</td>\n",
       "      <td>INR</td>\n",
       "      <td>647.62</td>\n",
       "      <td>MUMBAI</td>\n",
       "      <td>MAHARASHTRA</td>\n",
       "      <td>400081.0</td>\n",
       "      <td>IN</td>\n",
       "      <td>NaN</td>\n",
       "      <td>False</td>\n",
       "      <td>Easy Ship</td>\n",
       "      <td>NaN</td>\n",
       "    </tr>\n",
       "    <tr>\n",
       "      <th>1</th>\n",
       "      <td>171-9198151-1101146</td>\n",
       "      <td>04-30-22</td>\n",
       "      <td>Shipped - Delivered to Buyer</td>\n",
       "      <td>Merchant</td>\n",
       "      <td>Amazon.in</td>\n",
       "      <td>Standard</td>\n",
       "      <td>JNE3781</td>\n",
       "      <td>JNE3781-KR-XXXL</td>\n",
       "      <td>kurta</td>\n",
       "      <td>3XL</td>\n",
       "      <td>...</td>\n",
       "      <td>INR</td>\n",
       "      <td>406.00</td>\n",
       "      <td>BENGALURU</td>\n",
       "      <td>KARNATAKA</td>\n",
       "      <td>560085.0</td>\n",
       "      <td>IN</td>\n",
       "      <td>Amazon PLCC Free-Financing Universal Merchant ...</td>\n",
       "      <td>False</td>\n",
       "      <td>Easy Ship</td>\n",
       "      <td>NaN</td>\n",
       "    </tr>\n",
       "    <tr>\n",
       "      <th>2</th>\n",
       "      <td>404-0687676-7273146</td>\n",
       "      <td>04-30-22</td>\n",
       "      <td>Shipped</td>\n",
       "      <td>Amazon</td>\n",
       "      <td>Amazon.in</td>\n",
       "      <td>Expedited</td>\n",
       "      <td>JNE3371</td>\n",
       "      <td>JNE3371-KR-XL</td>\n",
       "      <td>kurta</td>\n",
       "      <td>XL</td>\n",
       "      <td>...</td>\n",
       "      <td>INR</td>\n",
       "      <td>329.00</td>\n",
       "      <td>NAVI MUMBAI</td>\n",
       "      <td>MAHARASHTRA</td>\n",
       "      <td>410210.0</td>\n",
       "      <td>IN</td>\n",
       "      <td>IN Core Free Shipping 2015/04/08 23-48-5-108</td>\n",
       "      <td>True</td>\n",
       "      <td>NaN</td>\n",
       "      <td>NaN</td>\n",
       "    </tr>\n",
       "    <tr>\n",
       "      <th>3</th>\n",
       "      <td>403-9615377-8133951</td>\n",
       "      <td>04-30-22</td>\n",
       "      <td>Cancelled</td>\n",
       "      <td>Merchant</td>\n",
       "      <td>Amazon.in</td>\n",
       "      <td>Standard</td>\n",
       "      <td>J0341</td>\n",
       "      <td>J0341-DR-L</td>\n",
       "      <td>Western Dress</td>\n",
       "      <td>L</td>\n",
       "      <td>...</td>\n",
       "      <td>INR</td>\n",
       "      <td>753.33</td>\n",
       "      <td>PUDUCHERRY</td>\n",
       "      <td>PUDUCHERRY</td>\n",
       "      <td>605008.0</td>\n",
       "      <td>IN</td>\n",
       "      <td>NaN</td>\n",
       "      <td>False</td>\n",
       "      <td>Easy Ship</td>\n",
       "      <td>NaN</td>\n",
       "    </tr>\n",
       "    <tr>\n",
       "      <th>4</th>\n",
       "      <td>407-1069790-7240320</td>\n",
       "      <td>04-30-22</td>\n",
       "      <td>Shipped</td>\n",
       "      <td>Amazon</td>\n",
       "      <td>Amazon.in</td>\n",
       "      <td>Expedited</td>\n",
       "      <td>JNE3671</td>\n",
       "      <td>JNE3671-TU-XXXL</td>\n",
       "      <td>Top</td>\n",
       "      <td>3XL</td>\n",
       "      <td>...</td>\n",
       "      <td>INR</td>\n",
       "      <td>574.00</td>\n",
       "      <td>CHENNAI</td>\n",
       "      <td>TAMIL NADU</td>\n",
       "      <td>600073.0</td>\n",
       "      <td>IN</td>\n",
       "      <td>NaN</td>\n",
       "      <td>False</td>\n",
       "      <td>NaN</td>\n",
       "      <td>NaN</td>\n",
       "    </tr>\n",
       "  </tbody>\n",
       "</table>\n",
       "<p>5 rows × 23 columns</p>\n",
       "</div>"
      ],
      "text/plain": [
       "              Order ID      Date                        Status Fulfilment  \\\n",
       "0  405-8078784-5731545  04-30-22                     Cancelled   Merchant   \n",
       "1  171-9198151-1101146  04-30-22  Shipped - Delivered to Buyer   Merchant   \n",
       "2  404-0687676-7273146  04-30-22                       Shipped     Amazon   \n",
       "3  403-9615377-8133951  04-30-22                     Cancelled   Merchant   \n",
       "4  407-1069790-7240320  04-30-22                       Shipped     Amazon   \n",
       "\n",
       "  Sales Channel  ship-service-level    Style              SKU       Category  \\\n",
       "0      Amazon.in           Standard   SET389   SET389-KR-NP-S            Set   \n",
       "1      Amazon.in           Standard  JNE3781  JNE3781-KR-XXXL          kurta   \n",
       "2      Amazon.in          Expedited  JNE3371    JNE3371-KR-XL          kurta   \n",
       "3      Amazon.in           Standard    J0341       J0341-DR-L  Western Dress   \n",
       "4      Amazon.in          Expedited  JNE3671  JNE3671-TU-XXXL            Top   \n",
       "\n",
       "  Size  ... currency  Amount    ship-city   ship-state  ship-postal-code  \\\n",
       "0    S  ...      INR  647.62       MUMBAI  MAHARASHTRA          400081.0   \n",
       "1  3XL  ...      INR  406.00    BENGALURU    KARNATAKA          560085.0   \n",
       "2   XL  ...      INR  329.00  NAVI MUMBAI  MAHARASHTRA          410210.0   \n",
       "3    L  ...      INR  753.33   PUDUCHERRY   PUDUCHERRY          605008.0   \n",
       "4  3XL  ...      INR  574.00      CHENNAI   TAMIL NADU          600073.0   \n",
       "\n",
       "  ship-country                                      promotion-ids    B2B  \\\n",
       "0           IN                                                NaN  False   \n",
       "1           IN  Amazon PLCC Free-Financing Universal Merchant ...  False   \n",
       "2           IN       IN Core Free Shipping 2015/04/08 23-48-5-108   True   \n",
       "3           IN                                                NaN  False   \n",
       "4           IN                                                NaN  False   \n",
       "\n",
       "  fulfilled-by Unnamed: 22  \n",
       "0    Easy Ship         NaN  \n",
       "1    Easy Ship         NaN  \n",
       "2          NaN         NaN  \n",
       "3    Easy Ship         NaN  \n",
       "4          NaN         NaN  \n",
       "\n",
       "[5 rows x 23 columns]"
      ]
     },
     "execution_count": 4,
     "metadata": {},
     "output_type": "execute_result"
    }
   ],
   "source": [
    "amazon_df = amazon_df.set_index('index')\n",
    "amazon_df.index.name = None\n",
    "amazon_df.head()"
   ]
  },
  {
   "cell_type": "code",
   "execution_count": 5,
   "id": "6a23bc7a",
   "metadata": {},
   "outputs": [
    {
     "data": {
      "text/html": [
       "<div>\n",
       "<style scoped>\n",
       "    .dataframe tbody tr th:only-of-type {\n",
       "        vertical-align: middle;\n",
       "    }\n",
       "\n",
       "    .dataframe tbody tr th {\n",
       "        vertical-align: top;\n",
       "    }\n",
       "\n",
       "    .dataframe thead th {\n",
       "        text-align: right;\n",
       "    }\n",
       "</style>\n",
       "<table border=\"1\" class=\"dataframe\">\n",
       "  <thead>\n",
       "    <tr style=\"text-align: right;\">\n",
       "      <th></th>\n",
       "      <th>Qty</th>\n",
       "      <th>Amount</th>\n",
       "      <th>ship-postal-code</th>\n",
       "    </tr>\n",
       "  </thead>\n",
       "  <tbody>\n",
       "    <tr>\n",
       "      <th>count</th>\n",
       "      <td>128975.000000</td>\n",
       "      <td>121180.000000</td>\n",
       "      <td>128942.000000</td>\n",
       "    </tr>\n",
       "    <tr>\n",
       "      <th>mean</th>\n",
       "      <td>0.904431</td>\n",
       "      <td>648.561465</td>\n",
       "      <td>463966.236509</td>\n",
       "    </tr>\n",
       "    <tr>\n",
       "      <th>std</th>\n",
       "      <td>0.313354</td>\n",
       "      <td>281.211687</td>\n",
       "      <td>191476.764941</td>\n",
       "    </tr>\n",
       "    <tr>\n",
       "      <th>min</th>\n",
       "      <td>0.000000</td>\n",
       "      <td>0.000000</td>\n",
       "      <td>110001.000000</td>\n",
       "    </tr>\n",
       "    <tr>\n",
       "      <th>25%</th>\n",
       "      <td>1.000000</td>\n",
       "      <td>449.000000</td>\n",
       "      <td>382421.000000</td>\n",
       "    </tr>\n",
       "    <tr>\n",
       "      <th>50%</th>\n",
       "      <td>1.000000</td>\n",
       "      <td>605.000000</td>\n",
       "      <td>500033.000000</td>\n",
       "    </tr>\n",
       "    <tr>\n",
       "      <th>75%</th>\n",
       "      <td>1.000000</td>\n",
       "      <td>788.000000</td>\n",
       "      <td>600024.000000</td>\n",
       "    </tr>\n",
       "    <tr>\n",
       "      <th>max</th>\n",
       "      <td>15.000000</td>\n",
       "      <td>5584.000000</td>\n",
       "      <td>989898.000000</td>\n",
       "    </tr>\n",
       "  </tbody>\n",
       "</table>\n",
       "</div>"
      ],
      "text/plain": [
       "                 Qty         Amount  ship-postal-code\n",
       "count  128975.000000  121180.000000     128942.000000\n",
       "mean        0.904431     648.561465     463966.236509\n",
       "std         0.313354     281.211687     191476.764941\n",
       "min         0.000000       0.000000     110001.000000\n",
       "25%         1.000000     449.000000     382421.000000\n",
       "50%         1.000000     605.000000     500033.000000\n",
       "75%         1.000000     788.000000     600024.000000\n",
       "max        15.000000    5584.000000     989898.000000"
      ]
     },
     "execution_count": 5,
     "metadata": {},
     "output_type": "execute_result"
    }
   ],
   "source": [
    "amazon_df.describe()"
   ]
  },
  {
   "cell_type": "code",
   "execution_count": 6,
   "id": "e14834b4",
   "metadata": {},
   "outputs": [
    {
     "data": {
      "text/plain": [
       "Order ID               object\n",
       "Date                   object\n",
       "Status                 object\n",
       "Fulfilment             object\n",
       "Sales Channel          object\n",
       "ship-service-level     object\n",
       "Style                  object\n",
       "SKU                    object\n",
       "Category               object\n",
       "Size                   object\n",
       "ASIN                   object\n",
       "Courier Status         object\n",
       "Qty                     int64\n",
       "currency               object\n",
       "Amount                float64\n",
       "ship-city              object\n",
       "ship-state             object\n",
       "ship-postal-code      float64\n",
       "ship-country           object\n",
       "promotion-ids          object\n",
       "B2B                      bool\n",
       "fulfilled-by           object\n",
       "Unnamed: 22            object\n",
       "dtype: object"
      ]
     },
     "execution_count": 6,
     "metadata": {},
     "output_type": "execute_result"
    }
   ],
   "source": [
    "amazon_df.dtypes"
   ]
  },
  {
   "cell_type": "markdown",
   "id": "b88b9eb5",
   "metadata": {},
   "source": [
    "### step 2 . Handelling the missing values\n",
    "\n",
    "  - Checking if any null values are present\n",
    "  - Cheking the colmns for null values\n",
    "  - Droping columns where necessary\n",
    "  - Filling the missing values as for the requirement"
   ]
  },
  {
   "cell_type": "code",
   "execution_count": 7,
   "id": "779c2e0b",
   "metadata": {},
   "outputs": [
    {
     "data": {
      "text/plain": [
       "Order ID                  0\n",
       "Date                      0\n",
       "Status                    0\n",
       "Fulfilment                0\n",
       "Sales Channel             0\n",
       "ship-service-level        0\n",
       "Style                     0\n",
       "SKU                       0\n",
       "Category                  0\n",
       "Size                      0\n",
       "ASIN                      0\n",
       "Courier Status         6872\n",
       "Qty                       0\n",
       "currency               7795\n",
       "Amount                 7795\n",
       "ship-city                33\n",
       "ship-state               33\n",
       "ship-postal-code         33\n",
       "ship-country             33\n",
       "promotion-ids         49153\n",
       "B2B                       0\n",
       "fulfilled-by          89698\n",
       "Unnamed: 22           49050\n",
       "dtype: int64"
      ]
     },
     "execution_count": 7,
     "metadata": {},
     "output_type": "execute_result"
    }
   ],
   "source": [
    "amazon_df.isnull().sum()"
   ]
  },
  {
   "cell_type": "code",
   "execution_count": 8,
   "id": "5aa24456",
   "metadata": {
    "scrolled": false
   },
   "outputs": [
    {
     "data": {
      "text/plain": [
       "fulfilled-by\n",
       "Easy Ship    39277\n",
       "Name: count, dtype: int64"
      ]
     },
     "execution_count": 8,
     "metadata": {},
     "output_type": "execute_result"
    }
   ],
   "source": [
    "amazon_df['fulfilled-by'].value_counts()"
   ]
  },
  {
   "cell_type": "code",
   "execution_count": 9,
   "id": "16558f11",
   "metadata": {},
   "outputs": [
    {
     "data": {
      "text/plain": [
       "Unnamed: 22\n",
       "False    79925\n",
       "Name: count, dtype: int64"
      ]
     },
     "execution_count": 9,
     "metadata": {},
     "output_type": "execute_result"
    }
   ],
   "source": [
    "amazon_df['Unnamed: 22'].value_counts()"
   ]
  },
  {
   "cell_type": "code",
   "execution_count": 10,
   "id": "5357f890",
   "metadata": {},
   "outputs": [
    {
     "data": {
      "text/plain": [
       "B2B\n",
       "False    128104\n",
       "True        871\n",
       "Name: count, dtype: int64"
      ]
     },
     "execution_count": 10,
     "metadata": {},
     "output_type": "execute_result"
    }
   ],
   "source": [
    "amazon_df['B2B'].value_counts()"
   ]
  },
  {
   "cell_type": "code",
   "execution_count": 11,
   "id": "789ab05d",
   "metadata": {},
   "outputs": [
    {
     "data": {
      "text/plain": [
       "Index(['Order ID', 'Date', 'Status', 'Fulfilment', 'Sales Channel ',\n",
       "       'ship-service-level', 'Style', 'SKU', 'Category', 'Size', 'ASIN',\n",
       "       'Courier Status', 'Qty', 'currency', 'Amount', 'ship-city',\n",
       "       'ship-state', 'ship-postal-code', 'ship-country', 'promotion-ids',\n",
       "       'B2B', 'fulfilled-by', 'Unnamed: 22'],\n",
       "      dtype='object')"
      ]
     },
     "execution_count": 11,
     "metadata": {},
     "output_type": "execute_result"
    }
   ],
   "source": [
    "amazon_df.columns"
   ]
  },
  {
   "cell_type": "code",
   "execution_count": 12,
   "id": "a6374543",
   "metadata": {},
   "outputs": [],
   "source": [
    "#creating a copy of the data to preprocess\n",
    "amazon_df_cleaned = amazon_df.copy()"
   ]
  },
  {
   "cell_type": "code",
   "execution_count": 13,
   "id": "19969e15",
   "metadata": {},
   "outputs": [],
   "source": [
    "amazon_df_cleaned.drop(columns = [\"Unnamed: 22\"], inplace = True)"
   ]
  },
  {
   "cell_type": "code",
   "execution_count": 14,
   "id": "6392d42a",
   "metadata": {},
   "outputs": [
    {
     "data": {
      "text/html": [
       "<div>\n",
       "<style scoped>\n",
       "    .dataframe tbody tr th:only-of-type {\n",
       "        vertical-align: middle;\n",
       "    }\n",
       "\n",
       "    .dataframe tbody tr th {\n",
       "        vertical-align: top;\n",
       "    }\n",
       "\n",
       "    .dataframe thead th {\n",
       "        text-align: right;\n",
       "    }\n",
       "</style>\n",
       "<table border=\"1\" class=\"dataframe\">\n",
       "  <thead>\n",
       "    <tr style=\"text-align: right;\">\n",
       "      <th></th>\n",
       "      <th>Order ID</th>\n",
       "      <th>Date</th>\n",
       "      <th>Status</th>\n",
       "      <th>Fulfilment</th>\n",
       "      <th>Sales Channel</th>\n",
       "      <th>ship-service-level</th>\n",
       "      <th>Style</th>\n",
       "      <th>SKU</th>\n",
       "      <th>Category</th>\n",
       "      <th>Size</th>\n",
       "      <th>ASIN</th>\n",
       "      <th>Courier Status</th>\n",
       "      <th>Qty</th>\n",
       "      <th>currency</th>\n",
       "      <th>Amount</th>\n",
       "      <th>ship-city</th>\n",
       "      <th>ship-state</th>\n",
       "      <th>ship-postal-code</th>\n",
       "      <th>ship-country</th>\n",
       "      <th>promotion-ids</th>\n",
       "      <th>B2B</th>\n",
       "      <th>fulfilled-by</th>\n",
       "    </tr>\n",
       "  </thead>\n",
       "  <tbody>\n",
       "    <tr>\n",
       "      <th>0</th>\n",
       "      <td>405-8078784-5731545</td>\n",
       "      <td>04-30-22</td>\n",
       "      <td>Cancelled</td>\n",
       "      <td>Merchant</td>\n",
       "      <td>Amazon.in</td>\n",
       "      <td>Standard</td>\n",
       "      <td>SET389</td>\n",
       "      <td>SET389-KR-NP-S</td>\n",
       "      <td>Set</td>\n",
       "      <td>S</td>\n",
       "      <td>B09KXVBD7Z</td>\n",
       "      <td>NaN</td>\n",
       "      <td>0</td>\n",
       "      <td>INR</td>\n",
       "      <td>647.62</td>\n",
       "      <td>MUMBAI</td>\n",
       "      <td>MAHARASHTRA</td>\n",
       "      <td>400081.0</td>\n",
       "      <td>IN</td>\n",
       "      <td>NaN</td>\n",
       "      <td>False</td>\n",
       "      <td>Easy Ship</td>\n",
       "    </tr>\n",
       "    <tr>\n",
       "      <th>1</th>\n",
       "      <td>171-9198151-1101146</td>\n",
       "      <td>04-30-22</td>\n",
       "      <td>Shipped - Delivered to Buyer</td>\n",
       "      <td>Merchant</td>\n",
       "      <td>Amazon.in</td>\n",
       "      <td>Standard</td>\n",
       "      <td>JNE3781</td>\n",
       "      <td>JNE3781-KR-XXXL</td>\n",
       "      <td>kurta</td>\n",
       "      <td>3XL</td>\n",
       "      <td>B09K3WFS32</td>\n",
       "      <td>Shipped</td>\n",
       "      <td>1</td>\n",
       "      <td>INR</td>\n",
       "      <td>406.00</td>\n",
       "      <td>BENGALURU</td>\n",
       "      <td>KARNATAKA</td>\n",
       "      <td>560085.0</td>\n",
       "      <td>IN</td>\n",
       "      <td>Amazon PLCC Free-Financing Universal Merchant ...</td>\n",
       "      <td>False</td>\n",
       "      <td>Easy Ship</td>\n",
       "    </tr>\n",
       "    <tr>\n",
       "      <th>2</th>\n",
       "      <td>404-0687676-7273146</td>\n",
       "      <td>04-30-22</td>\n",
       "      <td>Shipped</td>\n",
       "      <td>Amazon</td>\n",
       "      <td>Amazon.in</td>\n",
       "      <td>Expedited</td>\n",
       "      <td>JNE3371</td>\n",
       "      <td>JNE3371-KR-XL</td>\n",
       "      <td>kurta</td>\n",
       "      <td>XL</td>\n",
       "      <td>B07WV4JV4D</td>\n",
       "      <td>Shipped</td>\n",
       "      <td>1</td>\n",
       "      <td>INR</td>\n",
       "      <td>329.00</td>\n",
       "      <td>NAVI MUMBAI</td>\n",
       "      <td>MAHARASHTRA</td>\n",
       "      <td>410210.0</td>\n",
       "      <td>IN</td>\n",
       "      <td>IN Core Free Shipping 2015/04/08 23-48-5-108</td>\n",
       "      <td>True</td>\n",
       "      <td>NaN</td>\n",
       "    </tr>\n",
       "    <tr>\n",
       "      <th>3</th>\n",
       "      <td>403-9615377-8133951</td>\n",
       "      <td>04-30-22</td>\n",
       "      <td>Cancelled</td>\n",
       "      <td>Merchant</td>\n",
       "      <td>Amazon.in</td>\n",
       "      <td>Standard</td>\n",
       "      <td>J0341</td>\n",
       "      <td>J0341-DR-L</td>\n",
       "      <td>Western Dress</td>\n",
       "      <td>L</td>\n",
       "      <td>B099NRCT7B</td>\n",
       "      <td>NaN</td>\n",
       "      <td>0</td>\n",
       "      <td>INR</td>\n",
       "      <td>753.33</td>\n",
       "      <td>PUDUCHERRY</td>\n",
       "      <td>PUDUCHERRY</td>\n",
       "      <td>605008.0</td>\n",
       "      <td>IN</td>\n",
       "      <td>NaN</td>\n",
       "      <td>False</td>\n",
       "      <td>Easy Ship</td>\n",
       "    </tr>\n",
       "    <tr>\n",
       "      <th>4</th>\n",
       "      <td>407-1069790-7240320</td>\n",
       "      <td>04-30-22</td>\n",
       "      <td>Shipped</td>\n",
       "      <td>Amazon</td>\n",
       "      <td>Amazon.in</td>\n",
       "      <td>Expedited</td>\n",
       "      <td>JNE3671</td>\n",
       "      <td>JNE3671-TU-XXXL</td>\n",
       "      <td>Top</td>\n",
       "      <td>3XL</td>\n",
       "      <td>B098714BZP</td>\n",
       "      <td>Shipped</td>\n",
       "      <td>1</td>\n",
       "      <td>INR</td>\n",
       "      <td>574.00</td>\n",
       "      <td>CHENNAI</td>\n",
       "      <td>TAMIL NADU</td>\n",
       "      <td>600073.0</td>\n",
       "      <td>IN</td>\n",
       "      <td>NaN</td>\n",
       "      <td>False</td>\n",
       "      <td>NaN</td>\n",
       "    </tr>\n",
       "  </tbody>\n",
       "</table>\n",
       "</div>"
      ],
      "text/plain": [
       "              Order ID      Date                        Status Fulfilment  \\\n",
       "0  405-8078784-5731545  04-30-22                     Cancelled   Merchant   \n",
       "1  171-9198151-1101146  04-30-22  Shipped - Delivered to Buyer   Merchant   \n",
       "2  404-0687676-7273146  04-30-22                       Shipped     Amazon   \n",
       "3  403-9615377-8133951  04-30-22                     Cancelled   Merchant   \n",
       "4  407-1069790-7240320  04-30-22                       Shipped     Amazon   \n",
       "\n",
       "  Sales Channel  ship-service-level    Style              SKU       Category  \\\n",
       "0      Amazon.in           Standard   SET389   SET389-KR-NP-S            Set   \n",
       "1      Amazon.in           Standard  JNE3781  JNE3781-KR-XXXL          kurta   \n",
       "2      Amazon.in          Expedited  JNE3371    JNE3371-KR-XL          kurta   \n",
       "3      Amazon.in           Standard    J0341       J0341-DR-L  Western Dress   \n",
       "4      Amazon.in          Expedited  JNE3671  JNE3671-TU-XXXL            Top   \n",
       "\n",
       "  Size        ASIN Courier Status  Qty currency  Amount    ship-city  \\\n",
       "0    S  B09KXVBD7Z            NaN    0      INR  647.62       MUMBAI   \n",
       "1  3XL  B09K3WFS32        Shipped    1      INR  406.00    BENGALURU   \n",
       "2   XL  B07WV4JV4D        Shipped    1      INR  329.00  NAVI MUMBAI   \n",
       "3    L  B099NRCT7B            NaN    0      INR  753.33   PUDUCHERRY   \n",
       "4  3XL  B098714BZP        Shipped    1      INR  574.00      CHENNAI   \n",
       "\n",
       "    ship-state  ship-postal-code ship-country  \\\n",
       "0  MAHARASHTRA          400081.0           IN   \n",
       "1    KARNATAKA          560085.0           IN   \n",
       "2  MAHARASHTRA          410210.0           IN   \n",
       "3   PUDUCHERRY          605008.0           IN   \n",
       "4   TAMIL NADU          600073.0           IN   \n",
       "\n",
       "                                       promotion-ids    B2B fulfilled-by  \n",
       "0                                                NaN  False    Easy Ship  \n",
       "1  Amazon PLCC Free-Financing Universal Merchant ...  False    Easy Ship  \n",
       "2       IN Core Free Shipping 2015/04/08 23-48-5-108   True          NaN  \n",
       "3                                                NaN  False    Easy Ship  \n",
       "4                                                NaN  False          NaN  "
      ]
     },
     "execution_count": 14,
     "metadata": {},
     "output_type": "execute_result"
    }
   ],
   "source": [
    "pd.set_option('display.max_columns' , None)\n",
    "amazon_df_cleaned.head()"
   ]
  },
  {
   "cell_type": "markdown",
   "id": "d7cb4ff5",
   "metadata": {},
   "source": [
    "##### Cheking the percentage of missinng data present in each column"
   ]
  },
  {
   "cell_type": "code",
   "execution_count": 15,
   "id": "003d45a3",
   "metadata": {},
   "outputs": [
    {
     "name": "stdout",
     "output_type": "stream",
     "text": [
      "Percentage of null value present in \"Courier Status\" column is : 5.33%\n",
      "Percentage of null value present in \"currency\" column is : 6.04%\n",
      "Percentage of null value present in \"Amount\" column is : 6.04%\n",
      "Percentage of null value present in \"ship-city\" column is : 0.03%\n",
      "Percentage of null value present in \"ship-state\" column is : 0.03%\n",
      "Percentage of null value present in \"ship-postal-code\" column is : 0.03%\n",
      "Percentage of null value present in \"ship-country\" column is : 0.03%\n",
      "Percentage of null value present in \"promotion-ids\" column is : 38.11%\n",
      "Percentage of null value present in \"fulfilled-by\" column is : 69.55%\n"
     ]
    }
   ],
   "source": [
    "for column in amazon_df_cleaned.columns:\n",
    "    \n",
    "    if amazon_df_cleaned[column].isnull().sum() :\n",
    "        null_percentage = amazon_df_cleaned[column].isnull().sum() / len(amazon_df_cleaned) * 100\n",
    "        print(f'Percentage of null value present in \"{column}\" column is : {null_percentage :.2f}%')"
   ]
  },
  {
   "cell_type": "code",
   "execution_count": 16,
   "id": "a6363a29",
   "metadata": {},
   "outputs": [
    {
     "data": {
      "image/png": "[encoded data removed]",
      "text/plain": [
       "<Figure size 1000x600 with 1 Axes>"
      ]
     },
     "metadata": {},
     "output_type": "display_data"
    }
   ],
   "source": [
    "plt.figure(figsize=(10,6))\n",
    "\n",
    "sns.heatmap(amazon_df_cleaned.isnull(),cbar = False, cmap = 'viridis')\n",
    "plt.title('Missing Data Heatmap')\n",
    "plt.show()\n",
    "            "
   ]
  },
  {
   "cell_type": "code",
   "execution_count": 17,
   "id": "98bbb0dd",
   "metadata": {},
   "outputs": [],
   "source": [
    "amazon_df_cleaned['promotion-ids'].fillna('Unknown', inplace = True)"
   ]
  },
  {
   "cell_type": "code",
   "execution_count": 18,
   "id": "452a09e1",
   "metadata": {},
   "outputs": [
    {
     "data": {
      "text/html": [
       "<div>\n",
       "<style scoped>\n",
       "    .dataframe tbody tr th:only-of-type {\n",
       "        vertical-align: middle;\n",
       "    }\n",
       "\n",
       "    .dataframe tbody tr th {\n",
       "        vertical-align: top;\n",
       "    }\n",
       "\n",
       "    .dataframe thead th {\n",
       "        text-align: right;\n",
       "    }\n",
       "</style>\n",
       "<table border=\"1\" class=\"dataframe\">\n",
       "  <thead>\n",
       "    <tr style=\"text-align: right;\">\n",
       "      <th></th>\n",
       "      <th>Order ID</th>\n",
       "      <th>Date</th>\n",
       "      <th>Status</th>\n",
       "      <th>Fulfilment</th>\n",
       "      <th>Sales Channel</th>\n",
       "      <th>ship-service-level</th>\n",
       "      <th>Style</th>\n",
       "      <th>SKU</th>\n",
       "      <th>Category</th>\n",
       "      <th>Size</th>\n",
       "      <th>ASIN</th>\n",
       "      <th>Courier Status</th>\n",
       "      <th>Qty</th>\n",
       "      <th>currency</th>\n",
       "      <th>Amount</th>\n",
       "      <th>ship-city</th>\n",
       "      <th>ship-state</th>\n",
       "      <th>ship-postal-code</th>\n",
       "      <th>ship-country</th>\n",
       "      <th>promotion-ids</th>\n",
       "      <th>B2B</th>\n",
       "      <th>fulfilled-by</th>\n",
       "    </tr>\n",
       "  </thead>\n",
       "  <tbody>\n",
       "    <tr>\n",
       "      <th>0</th>\n",
       "      <td>405-8078784-5731545</td>\n",
       "      <td>04-30-22</td>\n",
       "      <td>Cancelled</td>\n",
       "      <td>Merchant</td>\n",
       "      <td>Amazon.in</td>\n",
       "      <td>Standard</td>\n",
       "      <td>SET389</td>\n",
       "      <td>SET389-KR-NP-S</td>\n",
       "      <td>Set</td>\n",
       "      <td>S</td>\n",
       "      <td>B09KXVBD7Z</td>\n",
       "      <td>NaN</td>\n",
       "      <td>0</td>\n",
       "      <td>INR</td>\n",
       "      <td>647.62</td>\n",
       "      <td>MUMBAI</td>\n",
       "      <td>MAHARASHTRA</td>\n",
       "      <td>400081.0</td>\n",
       "      <td>IN</td>\n",
       "      <td>Unknown</td>\n",
       "      <td>False</td>\n",
       "      <td>Easy Ship</td>\n",
       "    </tr>\n",
       "    <tr>\n",
       "      <th>1</th>\n",
       "      <td>171-9198151-1101146</td>\n",
       "      <td>04-30-22</td>\n",
       "      <td>Shipped - Delivered to Buyer</td>\n",
       "      <td>Merchant</td>\n",
       "      <td>Amazon.in</td>\n",
       "      <td>Standard</td>\n",
       "      <td>JNE3781</td>\n",
       "      <td>JNE3781-KR-XXXL</td>\n",
       "      <td>kurta</td>\n",
       "      <td>3XL</td>\n",
       "      <td>B09K3WFS32</td>\n",
       "      <td>Shipped</td>\n",
       "      <td>1</td>\n",
       "      <td>INR</td>\n",
       "      <td>406.00</td>\n",
       "      <td>BENGALURU</td>\n",
       "      <td>KARNATAKA</td>\n",
       "      <td>560085.0</td>\n",
       "      <td>IN</td>\n",
       "      <td>Amazon PLCC Free-Financing Universal Merchant ...</td>\n",
       "      <td>False</td>\n",
       "      <td>Easy Ship</td>\n",
       "    </tr>\n",
       "    <tr>\n",
       "      <th>2</th>\n",
       "      <td>404-0687676-7273146</td>\n",
       "      <td>04-30-22</td>\n",
       "      <td>Shipped</td>\n",
       "      <td>Amazon</td>\n",
       "      <td>Amazon.in</td>\n",
       "      <td>Expedited</td>\n",
       "      <td>JNE3371</td>\n",
       "      <td>JNE3371-KR-XL</td>\n",
       "      <td>kurta</td>\n",
       "      <td>XL</td>\n",
       "      <td>B07WV4JV4D</td>\n",
       "      <td>Shipped</td>\n",
       "      <td>1</td>\n",
       "      <td>INR</td>\n",
       "      <td>329.00</td>\n",
       "      <td>NAVI MUMBAI</td>\n",
       "      <td>MAHARASHTRA</td>\n",
       "      <td>410210.0</td>\n",
       "      <td>IN</td>\n",
       "      <td>IN Core Free Shipping 2015/04/08 23-48-5-108</td>\n",
       "      <td>True</td>\n",
       "      <td>NaN</td>\n",
       "    </tr>\n",
       "    <tr>\n",
       "      <th>3</th>\n",
       "      <td>403-9615377-8133951</td>\n",
       "      <td>04-30-22</td>\n",
       "      <td>Cancelled</td>\n",
       "      <td>Merchant</td>\n",
       "      <td>Amazon.in</td>\n",
       "      <td>Standard</td>\n",
       "      <td>J0341</td>\n",
       "      <td>J0341-DR-L</td>\n",
       "      <td>Western Dress</td>\n",
       "      <td>L</td>\n",
       "      <td>B099NRCT7B</td>\n",
       "      <td>NaN</td>\n",
       "      <td>0</td>\n",
       "      <td>INR</td>\n",
       "      <td>753.33</td>\n",
       "      <td>PUDUCHERRY</td>\n",
       "      <td>PUDUCHERRY</td>\n",
       "      <td>605008.0</td>\n",
       "      <td>IN</td>\n",
       "      <td>Unknown</td>\n",
       "      <td>False</td>\n",
       "      <td>Easy Ship</td>\n",
       "    </tr>\n",
       "    <tr>\n",
       "      <th>4</th>\n",
       "      <td>407-1069790-7240320</td>\n",
       "      <td>04-30-22</td>\n",
       "      <td>Shipped</td>\n",
       "      <td>Amazon</td>\n",
       "      <td>Amazon.in</td>\n",
       "      <td>Expedited</td>\n",
       "      <td>JNE3671</td>\n",
       "      <td>JNE3671-TU-XXXL</td>\n",
       "      <td>Top</td>\n",
       "      <td>3XL</td>\n",
       "      <td>B098714BZP</td>\n",
       "      <td>Shipped</td>\n",
       "      <td>1</td>\n",
       "      <td>INR</td>\n",
       "      <td>574.00</td>\n",
       "      <td>CHENNAI</td>\n",
       "      <td>TAMIL NADU</td>\n",
       "      <td>600073.0</td>\n",
       "      <td>IN</td>\n",
       "      <td>Unknown</td>\n",
       "      <td>False</td>\n",
       "      <td>NaN</td>\n",
       "    </tr>\n",
       "  </tbody>\n",
       "</table>\n",
       "</div>"
      ],
      "text/plain": [
       "              Order ID      Date                        Status Fulfilment  \\\n",
       "0  405-8078784-5731545  04-30-22                     Cancelled   Merchant   \n",
       "1  171-9198151-1101146  04-30-22  Shipped - Delivered to Buyer   Merchant   \n",
       "2  404-0687676-7273146  04-30-22                       Shipped     Amazon   \n",
       "3  403-9615377-8133951  04-30-22                     Cancelled   Merchant   \n",
       "4  407-1069790-7240320  04-30-22                       Shipped     Amazon   \n",
       "\n",
       "  Sales Channel  ship-service-level    Style              SKU       Category  \\\n",
       "0      Amazon.in           Standard   SET389   SET389-KR-NP-S            Set   \n",
       "1      Amazon.in           Standard  JNE3781  JNE3781-KR-XXXL          kurta   \n",
       "2      Amazon.in          Expedited  JNE3371    JNE3371-KR-XL          kurta   \n",
       "3      Amazon.in           Standard    J0341       J0341-DR-L  Western Dress   \n",
       "4      Amazon.in          Expedited  JNE3671  JNE3671-TU-XXXL            Top   \n",
       "\n",
       "  Size        ASIN Courier Status  Qty currency  Amount    ship-city  \\\n",
       "0    S  B09KXVBD7Z            NaN    0      INR  647.62       MUMBAI   \n",
       "1  3XL  B09K3WFS32        Shipped    1      INR  406.00    BENGALURU   \n",
       "2   XL  B07WV4JV4D        Shipped    1      INR  329.00  NAVI MUMBAI   \n",
       "3    L  B099NRCT7B            NaN    0      INR  753.33   PUDUCHERRY   \n",
       "4  3XL  B098714BZP        Shipped    1      INR  574.00      CHENNAI   \n",
       "\n",
       "    ship-state  ship-postal-code ship-country  \\\n",
       "0  MAHARASHTRA          400081.0           IN   \n",
       "1    KARNATAKA          560085.0           IN   \n",
       "2  MAHARASHTRA          410210.0           IN   \n",
       "3   PUDUCHERRY          605008.0           IN   \n",
       "4   TAMIL NADU          600073.0           IN   \n",
       "\n",
       "                                       promotion-ids    B2B fulfilled-by  \n",
       "0                                            Unknown  False    Easy Ship  \n",
       "1  Amazon PLCC Free-Financing Universal Merchant ...  False    Easy Ship  \n",
       "2       IN Core Free Shipping 2015/04/08 23-48-5-108   True          NaN  \n",
       "3                                            Unknown  False    Easy Ship  \n",
       "4                                            Unknown  False          NaN  "
      ]
     },
     "execution_count": 18,
     "metadata": {},
     "output_type": "execute_result"
    }
   ],
   "source": [
    "amazon_df_cleaned.head()"
   ]
  },
  {
   "cell_type": "code",
   "execution_count": 19,
   "id": "7ea259f3",
   "metadata": {},
   "outputs": [],
   "source": [
    "if 'fulfilled-by' in amazon_df_cleaned.columns:    \n",
    "    amazon_df_cleaned.drop(columns = ['fulfilled-by'],inplace = True)"
   ]
  },
  {
   "cell_type": "code",
   "execution_count": 20,
   "id": "c7fe986a",
   "metadata": {},
   "outputs": [
    {
     "data": {
      "text/plain": [
       "Order ID                 0\n",
       "Date                     0\n",
       "Status                   0\n",
       "Fulfilment               0\n",
       "Sales Channel            0\n",
       "ship-service-level       0\n",
       "Style                    0\n",
       "SKU                      0\n",
       "Category                 0\n",
       "Size                     0\n",
       "ASIN                     0\n",
       "Courier Status        6872\n",
       "Qty                      0\n",
       "currency              7795\n",
       "Amount                7795\n",
       "ship-city               33\n",
       "ship-state              33\n",
       "ship-postal-code        33\n",
       "ship-country            33\n",
       "promotion-ids            0\n",
       "B2B                      0\n",
       "dtype: int64"
      ]
     },
     "execution_count": 20,
     "metadata": {},
     "output_type": "execute_result"
    }
   ],
   "source": [
    "amazon_df_cleaned.isnull().sum()"
   ]
  },
  {
   "cell_type": "code",
   "execution_count": 21,
   "id": "6b48f27a",
   "metadata": {},
   "outputs": [
    {
     "data": {
      "text/plain": [
       "array(['INR', nan], dtype=object)"
      ]
     },
     "execution_count": 21,
     "metadata": {},
     "output_type": "execute_result"
    }
   ],
   "source": [
    "amazon_df_cleaned['currency'].unique()"
   ]
  },
  {
   "cell_type": "code",
   "execution_count": 22,
   "id": "edd40dc2",
   "metadata": {},
   "outputs": [],
   "source": [
    "amazon_df_cleaned['currency'].fillna('INR' , inplace = True)"
   ]
  },
  {
   "cell_type": "code",
   "execution_count": 23,
   "id": "650d704d",
   "metadata": {},
   "outputs": [
    {
     "data": {
      "text/plain": [
       "currency\n",
       "INR    128975\n",
       "Name: count, dtype: int64"
      ]
     },
     "execution_count": 23,
     "metadata": {},
     "output_type": "execute_result"
    }
   ],
   "source": [
    "amazon_df_cleaned['currency'].value_counts()"
   ]
  },
  {
   "cell_type": "code",
   "execution_count": 24,
   "id": "4af53092",
   "metadata": {},
   "outputs": [
    {
     "data": {
      "text/plain": [
       "0    MAHARASHTRA\n",
       "Name: ship-state, dtype: object"
      ]
     },
     "execution_count": 24,
     "metadata": {},
     "output_type": "execute_result"
    }
   ],
   "source": [
    "amazon_df_cleaned['ship-state'].mode()"
   ]
  },
  {
   "cell_type": "code",
   "execution_count": 25,
   "id": "55e7011a",
   "metadata": {},
   "outputs": [],
   "source": [
    "amazon_df_cleaned.dropna(subset=['ship-city', 'ship-state', 'ship-postal-code', 'ship-country'], inplace=True)"
   ]
  },
  {
   "cell_type": "code",
   "execution_count": 26,
   "id": "4dae4db3",
   "metadata": {},
   "outputs": [
    {
     "data": {
      "text/plain": [
       "Order ID                 0\n",
       "Date                     0\n",
       "Status                   0\n",
       "Fulfilment               0\n",
       "Sales Channel            0\n",
       "ship-service-level       0\n",
       "Style                    0\n",
       "SKU                      0\n",
       "Category                 0\n",
       "Size                     0\n",
       "ASIN                     0\n",
       "Courier Status        6869\n",
       "Qty                      0\n",
       "currency                 0\n",
       "Amount                7793\n",
       "ship-city                0\n",
       "ship-state               0\n",
       "ship-postal-code         0\n",
       "ship-country             0\n",
       "promotion-ids            0\n",
       "B2B                      0\n",
       "dtype: int64"
      ]
     },
     "execution_count": 26,
     "metadata": {},
     "output_type": "execute_result"
    }
   ],
   "source": [
    "amazon_df_cleaned.isnull().sum()"
   ]
  },
  {
   "cell_type": "code",
   "execution_count": 27,
   "id": "4400cdf8",
   "metadata": {},
   "outputs": [
    {
     "data": {
      "text/plain": [
       "3"
      ]
     },
     "execution_count": 27,
     "metadata": {},
     "output_type": "execute_result"
    }
   ],
   "source": [
    "amazon_df_cleaned['Courier Status'].nunique()"
   ]
  },
  {
   "cell_type": "code",
   "execution_count": 28,
   "id": "a3767f39",
   "metadata": {},
   "outputs": [
    {
     "data": {
      "text/plain": [
       "array([nan, 'Shipped', 'Cancelled', 'Unshipped'], dtype=object)"
      ]
     },
     "execution_count": 28,
     "metadata": {},
     "output_type": "execute_result"
    }
   ],
   "source": [
    "amazon_df_cleaned['Courier Status'].unique()"
   ]
  },
  {
   "cell_type": "code",
   "execution_count": 29,
   "id": "15495e2c",
   "metadata": {},
   "outputs": [],
   "source": [
    "mode_value = amazon_df_cleaned['Courier Status'].mode()[0]\n",
    "amazon_df_cleaned['Courier Status'].fillna(mode_value, inplace = True)"
   ]
  },
  {
   "cell_type": "code",
   "execution_count": 30,
   "id": "08db5480",
   "metadata": {},
   "outputs": [
    {
     "data": {
      "text/plain": [
       "1410"
      ]
     },
     "execution_count": 30,
     "metadata": {},
     "output_type": "execute_result"
    }
   ],
   "source": [
    "amazon_df_cleaned['Amount'].nunique()"
   ]
  },
  {
   "cell_type": "code",
   "execution_count": 31,
   "id": "b0ebae4f",
   "metadata": {},
   "outputs": [
    {
     "data": {
      "text/plain": [
       "0.8854054151913562"
      ]
     },
     "execution_count": 31,
     "metadata": {},
     "output_type": "execute_result"
    }
   ],
   "source": [
    "#Checking the skewness\n",
    "amazon_df_cleaned['Amount'].skew()"
   ]
  },
  {
   "cell_type": "code",
   "execution_count": 32,
   "id": "71003c52",
   "metadata": {},
   "outputs": [],
   "source": [
    "amazon_df_cleaned['Amount'].fillna(amazon_df_cleaned['Amount'].median(), inplace=True)"
   ]
  },
  {
   "cell_type": "code",
   "execution_count": 33,
   "id": "05e6cecd",
   "metadata": {},
   "outputs": [
    {
     "data": {
      "text/plain": [
       "Order ID              False\n",
       "Date                  False\n",
       "Status                False\n",
       "Fulfilment            False\n",
       "Sales Channel         False\n",
       "ship-service-level    False\n",
       "Style                 False\n",
       "SKU                   False\n",
       "Category              False\n",
       "Size                  False\n",
       "ASIN                  False\n",
       "Courier Status        False\n",
       "Qty                   False\n",
       "currency              False\n",
       "Amount                False\n",
       "ship-city             False\n",
       "ship-state            False\n",
       "ship-postal-code      False\n",
       "ship-country          False\n",
       "promotion-ids         False\n",
       "B2B                   False\n",
       "dtype: bool"
      ]
     },
     "execution_count": 33,
     "metadata": {},
     "output_type": "execute_result"
    }
   ],
   "source": [
    "amazon_df_cleaned.isnull().any()"
   ]
  },
  {
   "cell_type": "markdown",
   "id": "2048554a",
   "metadata": {},
   "source": [
    "### 3. Datatype Correction\n",
    "   - Changing the data type of date and ship-postal-code to its appropriate datatype"
   ]
  },
  {
   "cell_type": "code",
   "execution_count": 34,
   "id": "6fe28a1b",
   "metadata": {},
   "outputs": [],
   "source": [
    "amazon_df_cleaned['Date'] = pd.to_datetime(amazon_df_cleaned['Date'])"
   ]
  },
  {
   "cell_type": "code",
   "execution_count": 35,
   "id": "3b07bf05",
   "metadata": {},
   "outputs": [
    {
     "data": {
      "text/plain": [
       "dtype('float64')"
      ]
     },
     "execution_count": 35,
     "metadata": {},
     "output_type": "execute_result"
    }
   ],
   "source": [
    "amazon_df_cleaned['ship-postal-code'].dtype"
   ]
  },
  {
   "cell_type": "code",
   "execution_count": 36,
   "id": "f129fc30",
   "metadata": {},
   "outputs": [],
   "source": [
    "amazon_df_cleaned['ship-postal-code'] = amazon_df_cleaned['ship-postal-code'].astype('int').astype('str')"
   ]
  },
  {
   "cell_type": "code",
   "execution_count": 37,
   "id": "1199be10",
   "metadata": {},
   "outputs": [
    {
     "data": {
      "text/plain": [
       "Order ID                      object\n",
       "Date                  datetime64[ns]\n",
       "Status                        object\n",
       "Fulfilment                    object\n",
       "Sales Channel                 object\n",
       "ship-service-level            object\n",
       "Style                         object\n",
       "SKU                           object\n",
       "Category                      object\n",
       "Size                          object\n",
       "ASIN                          object\n",
       "Courier Status                object\n",
       "Qty                            int64\n",
       "currency                      object\n",
       "Amount                       float64\n",
       "ship-city                     object\n",
       "ship-state                    object\n",
       "ship-postal-code              object\n",
       "ship-country                  object\n",
       "promotion-ids                 object\n",
       "B2B                             bool\n",
       "dtype: object"
      ]
     },
     "execution_count": 37,
     "metadata": {},
     "output_type": "execute_result"
    }
   ],
   "source": [
    "amazon_df_cleaned.dtypes"
   ]
  },
  {
   "cell_type": "code",
   "execution_count": 38,
   "id": "184a77fd",
   "metadata": {},
   "outputs": [
    {
     "data": {
      "text/plain": [
       "9"
      ]
     },
     "execution_count": 38,
     "metadata": {},
     "output_type": "execute_result"
    }
   ],
   "source": [
    "amazon_df_cleaned['Category'].nunique()"
   ]
  },
  {
   "cell_type": "code",
   "execution_count": 39,
   "id": "47da07a1",
   "metadata": {},
   "outputs": [
    {
     "data": {
      "text/plain": [
       "array(['Set', 'kurta', 'Western Dress', 'Top', 'Ethnic Dress', 'Bottom',\n",
       "       'Saree', 'Blouse', 'Dupatta'], dtype=object)"
      ]
     },
     "execution_count": 39,
     "metadata": {},
     "output_type": "execute_result"
    }
   ],
   "source": [
    "amazon_df_cleaned['Category'].unique()"
   ]
  },
  {
   "cell_type": "code",
   "execution_count": 40,
   "id": "a0f69698",
   "metadata": {},
   "outputs": [],
   "source": [
    "amazon_df_cleaned['Category'] = amazon_df_cleaned['Category'].astype('category')\n"
   ]
  },
  {
   "cell_type": "code",
   "execution_count": 41,
   "id": "3b1b2788",
   "metadata": {},
   "outputs": [
    {
     "data": {
      "text/plain": [
       "Order ID                      object\n",
       "Date                  datetime64[ns]\n",
       "Status                        object\n",
       "Fulfilment                    object\n",
       "Sales Channel                 object\n",
       "ship-service-level            object\n",
       "Style                         object\n",
       "SKU                           object\n",
       "Category                    category\n",
       "Size                          object\n",
       "ASIN                          object\n",
       "Courier Status                object\n",
       "Qty                            int64\n",
       "currency                      object\n",
       "Amount                       float64\n",
       "ship-city                     object\n",
       "ship-state                    object\n",
       "ship-postal-code              object\n",
       "ship-country                  object\n",
       "promotion-ids                 object\n",
       "B2B                             bool\n",
       "dtype: object"
      ]
     },
     "execution_count": 41,
     "metadata": {},
     "output_type": "execute_result"
    }
   ],
   "source": [
    "amazon_df_cleaned.dtypes"
   ]
  },
  {
   "cell_type": "markdown",
   "id": "d0e975eb",
   "metadata": {},
   "source": [
    "### 4. Duplicate value removal"
   ]
  },
  {
   "cell_type": "code",
   "execution_count": 42,
   "id": "afbf1841",
   "metadata": {},
   "outputs": [],
   "source": [
    "duplicate = amazon_df_cleaned[amazon_df_cleaned.duplicated()]"
   ]
  },
  {
   "cell_type": "code",
   "execution_count": 43,
   "id": "2cb39667",
   "metadata": {},
   "outputs": [
    {
     "name": "stdout",
     "output_type": "stream",
     "text": [
      "6\n"
     ]
    }
   ],
   "source": [
    "num_duplicates = amazon_df_cleaned.duplicated().sum()\n",
    "print(num_duplicates)"
   ]
  },
  {
   "cell_type": "code",
   "execution_count": 44,
   "id": "d2c517a2",
   "metadata": {},
   "outputs": [
    {
     "data": {
      "text/plain": [
       "(128942, 21)"
      ]
     },
     "execution_count": 44,
     "metadata": {},
     "output_type": "execute_result"
    }
   ],
   "source": [
    "amazon_df_cleaned.shape"
   ]
  },
  {
   "cell_type": "code",
   "execution_count": 45,
   "id": "b4b6c52e",
   "metadata": {},
   "outputs": [],
   "source": [
    "amazon_df_cleaned = amazon_df_cleaned.drop_duplicates()"
   ]
  },
  {
   "cell_type": "code",
   "execution_count": 46,
   "id": "8d9a8ead",
   "metadata": {},
   "outputs": [
    {
     "data": {
      "text/plain": [
       "(128936, 21)"
      ]
     },
     "execution_count": 46,
     "metadata": {},
     "output_type": "execute_result"
    }
   ],
   "source": [
    "amazon_df_cleaned.shape"
   ]
  },
  {
   "cell_type": "markdown",
   "id": "81662304",
   "metadata": {},
   "source": [
    "\n",
    "##  Exploratory Data Analysis (EDA)  \n",
    "- **Descriptive Statistics:**  \n",
    "  - Mean, median, mode, standard deviation  \n",
    "- **Data Visualization:**  \n",
    "  - Sales trends over time  \n",
    "  - Top-selling products and categories  \n",
    "  - Order fulfillment comparison  \n",
    "\n",
    "---\n"
   ]
  },
  {
   "cell_type": "code",
   "execution_count": 47,
   "id": "794985f2",
   "metadata": {},
   "outputs": [
    {
     "data": {
      "image/png": "[encoded data removed]",
      "text/plain": [
       "<Figure size 640x480 with 1 Axes>"
      ]
     },
     "metadata": {},
     "output_type": "display_data"
    }
   ],
   "source": [
    "df_melted = amazon_df_cleaned.melt(value_vars=['Amount', 'Qty'], var_name = 'Variable', value_name = 'Value')\n",
    "\n",
    "sns.boxplot(x = 'Variable', y = 'Value', data = df_melted)\n",
    "plt.title('box plot of Amount and Qty')\n",
    "plt.show()"
   ]
  },
  {
   "cell_type": "code",
   "execution_count": 48,
   "id": "c481ceee",
   "metadata": {},
   "outputs": [
    {
     "name": "stdout",
     "output_type": "stream",
     "text": [
      "count    128936.000000\n",
      "mean          0.904464\n",
      "std           0.313316\n",
      "min           0.000000\n",
      "25%           1.000000\n",
      "50%           1.000000\n",
      "75%           1.000000\n",
      "max          15.000000\n",
      "Name: Qty, dtype: float64\n",
      "Unique values are : [ 0  1  2 15  3  9 13  5  4  8]\n"
     ]
    }
   ],
   "source": [
    "print(amazon_df_cleaned['Qty'].describe())\n",
    "print(f\"Unique values are : {amazon_df_cleaned['Qty'].unique()}\")"
   ]
  },
  {
   "cell_type": "code",
   "execution_count": 49,
   "id": "7a1e07a8",
   "metadata": {},
   "outputs": [
    {
     "data": {
      "image/png": "[encoded data removed]",
      "text/plain": [
       "<Figure size 640x480 with 1 Axes>"
      ]
     },
     "metadata": {},
     "output_type": "display_data"
    }
   ],
   "source": [
    "sns.histplot(amazon_df_cleaned['Qty'], bins = 20, kde = True)\n",
    "plt.show()"
   ]
  },
  {
   "cell_type": "code",
   "execution_count": 50,
   "id": "004390ec",
   "metadata": {},
   "outputs": [
    {
     "name": "stdout",
     "output_type": "stream",
     "text": [
      "Qty\n",
      "0      12799\n",
      "1     115749\n",
      "2        341\n",
      "3         32\n",
      "4          9\n",
      "5          2\n",
      "8          1\n",
      "9          1\n",
      "13         1\n",
      "15         1\n",
      "Name: count, dtype: int64\n"
     ]
    }
   ],
   "source": [
    "print(amazon_df_cleaned['Qty'].value_counts().sort_index())"
   ]
  },
  {
   "cell_type": "code",
   "execution_count": 51,
   "id": "8fb33ff4",
   "metadata": {},
   "outputs": [],
   "source": [
    "#Checking for IQR to detect outliers in the Qty column\n",
    "Q1 = amazon_df_cleaned['Qty'].quantile(0.25)\n",
    "Q3 =  amazon_df_cleaned['Qty'].quantile(0.75)\n",
    "\n",
    "IQR = Q3 - Q1\n",
    "\n",
    "outliers_qty = amazon_df_cleaned[(amazon_df_cleaned['Qty']  < (Q1 - 1.5 * IQR)) | (amazon_df_cleaned['Qty']  >(Q3 + 1.5 * IQR))]\n"
   ]
  },
  {
   "cell_type": "code",
   "execution_count": 52,
   "id": "c0069761",
   "metadata": {},
   "outputs": [
    {
     "data": {
      "text/html": [
       "<div>\n",
       "<style scoped>\n",
       "    .dataframe tbody tr th:only-of-type {\n",
       "        vertical-align: middle;\n",
       "    }\n",
       "\n",
       "    .dataframe tbody tr th {\n",
       "        vertical-align: top;\n",
       "    }\n",
       "\n",
       "    .dataframe thead th {\n",
       "        text-align: right;\n",
       "    }\n",
       "</style>\n",
       "<table border=\"1\" class=\"dataframe\">\n",
       "  <thead>\n",
       "    <tr style=\"text-align: right;\">\n",
       "      <th></th>\n",
       "      <th>Order ID</th>\n",
       "      <th>Date</th>\n",
       "      <th>Status</th>\n",
       "      <th>Fulfilment</th>\n",
       "      <th>Sales Channel</th>\n",
       "      <th>ship-service-level</th>\n",
       "      <th>Style</th>\n",
       "      <th>SKU</th>\n",
       "      <th>Category</th>\n",
       "      <th>Size</th>\n",
       "      <th>ASIN</th>\n",
       "      <th>Courier Status</th>\n",
       "      <th>Qty</th>\n",
       "      <th>currency</th>\n",
       "      <th>Amount</th>\n",
       "      <th>ship-city</th>\n",
       "      <th>ship-state</th>\n",
       "      <th>ship-postal-code</th>\n",
       "      <th>ship-country</th>\n",
       "      <th>promotion-ids</th>\n",
       "      <th>B2B</th>\n",
       "    </tr>\n",
       "  </thead>\n",
       "  <tbody>\n",
       "    <tr>\n",
       "      <th>0</th>\n",
       "      <td>405-8078784-5731545</td>\n",
       "      <td>2022-04-30</td>\n",
       "      <td>Cancelled</td>\n",
       "      <td>Merchant</td>\n",
       "      <td>Amazon.in</td>\n",
       "      <td>Standard</td>\n",
       "      <td>SET389</td>\n",
       "      <td>SET389-KR-NP-S</td>\n",
       "      <td>Set</td>\n",
       "      <td>S</td>\n",
       "      <td>B09KXVBD7Z</td>\n",
       "      <td>Shipped</td>\n",
       "      <td>0</td>\n",
       "      <td>INR</td>\n",
       "      <td>647.62</td>\n",
       "      <td>MUMBAI</td>\n",
       "      <td>MAHARASHTRA</td>\n",
       "      <td>400081</td>\n",
       "      <td>IN</td>\n",
       "      <td>Unknown</td>\n",
       "      <td>False</td>\n",
       "    </tr>\n",
       "    <tr>\n",
       "      <th>3</th>\n",
       "      <td>403-9615377-8133951</td>\n",
       "      <td>2022-04-30</td>\n",
       "      <td>Cancelled</td>\n",
       "      <td>Merchant</td>\n",
       "      <td>Amazon.in</td>\n",
       "      <td>Standard</td>\n",
       "      <td>J0341</td>\n",
       "      <td>J0341-DR-L</td>\n",
       "      <td>Western Dress</td>\n",
       "      <td>L</td>\n",
       "      <td>B099NRCT7B</td>\n",
       "      <td>Shipped</td>\n",
       "      <td>0</td>\n",
       "      <td>INR</td>\n",
       "      <td>753.33</td>\n",
       "      <td>PUDUCHERRY</td>\n",
       "      <td>PUDUCHERRY</td>\n",
       "      <td>605008</td>\n",
       "      <td>IN</td>\n",
       "      <td>Unknown</td>\n",
       "      <td>False</td>\n",
       "    </tr>\n",
       "    <tr>\n",
       "      <th>8</th>\n",
       "      <td>407-5443024-5233168</td>\n",
       "      <td>2022-04-30</td>\n",
       "      <td>Cancelled</td>\n",
       "      <td>Amazon</td>\n",
       "      <td>Amazon.in</td>\n",
       "      <td>Expedited</td>\n",
       "      <td>SET200</td>\n",
       "      <td>SET200-KR-NP-A-XXXL</td>\n",
       "      <td>Set</td>\n",
       "      <td>3XL</td>\n",
       "      <td>B08L91ZZXN</td>\n",
       "      <td>Cancelled</td>\n",
       "      <td>0</td>\n",
       "      <td>INR</td>\n",
       "      <td>605.00</td>\n",
       "      <td>HYDERABAD</td>\n",
       "      <td>TELANGANA</td>\n",
       "      <td>500008</td>\n",
       "      <td>IN</td>\n",
       "      <td>IN Core Free Shipping 2015/04/08 23-48-5-108</td>\n",
       "      <td>False</td>\n",
       "    </tr>\n",
       "    <tr>\n",
       "      <th>23</th>\n",
       "      <td>404-6019946-2909948</td>\n",
       "      <td>2022-04-30</td>\n",
       "      <td>Cancelled</td>\n",
       "      <td>Merchant</td>\n",
       "      <td>Amazon.in</td>\n",
       "      <td>Standard</td>\n",
       "      <td>SET291</td>\n",
       "      <td>SET291-KR-PP-M</td>\n",
       "      <td>Set</td>\n",
       "      <td>M</td>\n",
       "      <td>B099NK55YG</td>\n",
       "      <td>Shipped</td>\n",
       "      <td>0</td>\n",
       "      <td>INR</td>\n",
       "      <td>570.48</td>\n",
       "      <td>pune</td>\n",
       "      <td>MAHARASHTRA</td>\n",
       "      <td>411044</td>\n",
       "      <td>IN</td>\n",
       "      <td>Unknown</td>\n",
       "      <td>False</td>\n",
       "    </tr>\n",
       "    <tr>\n",
       "      <th>29</th>\n",
       "      <td>404-5933402-8801952</td>\n",
       "      <td>2022-04-30</td>\n",
       "      <td>Cancelled</td>\n",
       "      <td>Merchant</td>\n",
       "      <td>Amazon.in</td>\n",
       "      <td>Standard</td>\n",
       "      <td>JNE2132</td>\n",
       "      <td>JNE2132-KR-398-XXXL</td>\n",
       "      <td>kurta</td>\n",
       "      <td>3XL</td>\n",
       "      <td>B07JG3CND8</td>\n",
       "      <td>Shipped</td>\n",
       "      <td>0</td>\n",
       "      <td>INR</td>\n",
       "      <td>605.00</td>\n",
       "      <td>GUWAHATI</td>\n",
       "      <td>ASSAM</td>\n",
       "      <td>781003</td>\n",
       "      <td>IN</td>\n",
       "      <td>Unknown</td>\n",
       "      <td>False</td>\n",
       "    </tr>\n",
       "    <tr>\n",
       "      <th>...</th>\n",
       "      <td>...</td>\n",
       "      <td>...</td>\n",
       "      <td>...</td>\n",
       "      <td>...</td>\n",
       "      <td>...</td>\n",
       "      <td>...</td>\n",
       "      <td>...</td>\n",
       "      <td>...</td>\n",
       "      <td>...</td>\n",
       "      <td>...</td>\n",
       "      <td>...</td>\n",
       "      <td>...</td>\n",
       "      <td>...</td>\n",
       "      <td>...</td>\n",
       "      <td>...</td>\n",
       "      <td>...</td>\n",
       "      <td>...</td>\n",
       "      <td>...</td>\n",
       "      <td>...</td>\n",
       "      <td>...</td>\n",
       "      <td>...</td>\n",
       "    </tr>\n",
       "    <tr>\n",
       "      <th>128907</th>\n",
       "      <td>403-6757403-6097100</td>\n",
       "      <td>2022-05-31</td>\n",
       "      <td>Cancelled</td>\n",
       "      <td>Amazon</td>\n",
       "      <td>Amazon.in</td>\n",
       "      <td>Expedited</td>\n",
       "      <td>NW014</td>\n",
       "      <td>NW014-ST-SR-XXXL</td>\n",
       "      <td>Set</td>\n",
       "      <td>3XL</td>\n",
       "      <td>B0928ZT74Y</td>\n",
       "      <td>Cancelled</td>\n",
       "      <td>0</td>\n",
       "      <td>INR</td>\n",
       "      <td>605.00</td>\n",
       "      <td>GREATER NOIDA</td>\n",
       "      <td>UTTAR PRADESH</td>\n",
       "      <td>201306</td>\n",
       "      <td>IN</td>\n",
       "      <td>Unknown</td>\n",
       "      <td>False</td>\n",
       "    </tr>\n",
       "    <tr>\n",
       "      <th>128908</th>\n",
       "      <td>403-6757403-6097100</td>\n",
       "      <td>2022-05-31</td>\n",
       "      <td>Cancelled</td>\n",
       "      <td>Amazon</td>\n",
       "      <td>Amazon.in</td>\n",
       "      <td>Expedited</td>\n",
       "      <td>NW007</td>\n",
       "      <td>NW007-ST-CP-XXXL</td>\n",
       "      <td>Set</td>\n",
       "      <td>3XL</td>\n",
       "      <td>B0928YCMQP</td>\n",
       "      <td>Cancelled</td>\n",
       "      <td>0</td>\n",
       "      <td>INR</td>\n",
       "      <td>605.00</td>\n",
       "      <td>GREATER NOIDA</td>\n",
       "      <td>UTTAR PRADESH</td>\n",
       "      <td>201306</td>\n",
       "      <td>IN</td>\n",
       "      <td>Unknown</td>\n",
       "      <td>False</td>\n",
       "    </tr>\n",
       "    <tr>\n",
       "      <th>128956</th>\n",
       "      <td>403-0816822-3188305</td>\n",
       "      <td>2022-05-31</td>\n",
       "      <td>Shipped</td>\n",
       "      <td>Amazon</td>\n",
       "      <td>Amazon.in</td>\n",
       "      <td>Expedited</td>\n",
       "      <td>NW032</td>\n",
       "      <td>NW032-ST-CP-XXXL</td>\n",
       "      <td>Set</td>\n",
       "      <td>3XL</td>\n",
       "      <td>B0922RYBMF</td>\n",
       "      <td>Shipped</td>\n",
       "      <td>2</td>\n",
       "      <td>INR</td>\n",
       "      <td>992.00</td>\n",
       "      <td>CHENNAI</td>\n",
       "      <td>TAMIL NADU</td>\n",
       "      <td>600042</td>\n",
       "      <td>IN</td>\n",
       "      <td>IN Core Free Shipping 2015/04/08 23-48-5-108</td>\n",
       "      <td>False</td>\n",
       "    </tr>\n",
       "    <tr>\n",
       "      <th>128958</th>\n",
       "      <td>408-9513596-4393945</td>\n",
       "      <td>2022-05-31</td>\n",
       "      <td>Cancelled</td>\n",
       "      <td>Amazon</td>\n",
       "      <td>Amazon.in</td>\n",
       "      <td>Expedited</td>\n",
       "      <td>SET058</td>\n",
       "      <td>SET058-KR-NP-L</td>\n",
       "      <td>Set</td>\n",
       "      <td>L</td>\n",
       "      <td>B07R487XRD</td>\n",
       "      <td>Cancelled</td>\n",
       "      <td>0</td>\n",
       "      <td>INR</td>\n",
       "      <td>605.00</td>\n",
       "      <td>Bengaluru</td>\n",
       "      <td>KARNATAKA</td>\n",
       "      <td>560037</td>\n",
       "      <td>IN</td>\n",
       "      <td>Unknown</td>\n",
       "      <td>False</td>\n",
       "    </tr>\n",
       "    <tr>\n",
       "      <th>128967</th>\n",
       "      <td>404-5182288-1653947</td>\n",
       "      <td>2022-05-31</td>\n",
       "      <td>Cancelled</td>\n",
       "      <td>Amazon</td>\n",
       "      <td>Amazon.in</td>\n",
       "      <td>Expedited</td>\n",
       "      <td>JNE3638</td>\n",
       "      <td>JNE3638-KR-XS</td>\n",
       "      <td>kurta</td>\n",
       "      <td>XS</td>\n",
       "      <td>B09814Q3QH</td>\n",
       "      <td>Cancelled</td>\n",
       "      <td>0</td>\n",
       "      <td>INR</td>\n",
       "      <td>605.00</td>\n",
       "      <td>Kolkata</td>\n",
       "      <td>WEST BENGAL</td>\n",
       "      <td>700040</td>\n",
       "      <td>IN</td>\n",
       "      <td>Unknown</td>\n",
       "      <td>False</td>\n",
       "    </tr>\n",
       "  </tbody>\n",
       "</table>\n",
       "<p>13187 rows × 21 columns</p>\n",
       "</div>"
      ],
      "text/plain": [
       "                   Order ID       Date     Status Fulfilment Sales Channel   \\\n",
       "0       405-8078784-5731545 2022-04-30  Cancelled   Merchant      Amazon.in   \n",
       "3       403-9615377-8133951 2022-04-30  Cancelled   Merchant      Amazon.in   \n",
       "8       407-5443024-5233168 2022-04-30  Cancelled     Amazon      Amazon.in   \n",
       "23      404-6019946-2909948 2022-04-30  Cancelled   Merchant      Amazon.in   \n",
       "29      404-5933402-8801952 2022-04-30  Cancelled   Merchant      Amazon.in   \n",
       "...                     ...        ...        ...        ...            ...   \n",
       "128907  403-6757403-6097100 2022-05-31  Cancelled     Amazon      Amazon.in   \n",
       "128908  403-6757403-6097100 2022-05-31  Cancelled     Amazon      Amazon.in   \n",
       "128956  403-0816822-3188305 2022-05-31    Shipped     Amazon      Amazon.in   \n",
       "128958  408-9513596-4393945 2022-05-31  Cancelled     Amazon      Amazon.in   \n",
       "128967  404-5182288-1653947 2022-05-31  Cancelled     Amazon      Amazon.in   \n",
       "\n",
       "       ship-service-level    Style                  SKU       Category Size  \\\n",
       "0                Standard   SET389       SET389-KR-NP-S            Set    S   \n",
       "3                Standard    J0341           J0341-DR-L  Western Dress    L   \n",
       "8               Expedited   SET200  SET200-KR-NP-A-XXXL            Set  3XL   \n",
       "23               Standard   SET291       SET291-KR-PP-M            Set    M   \n",
       "29               Standard  JNE2132  JNE2132-KR-398-XXXL          kurta  3XL   \n",
       "...                   ...      ...                  ...            ...  ...   \n",
       "128907          Expedited    NW014     NW014-ST-SR-XXXL            Set  3XL   \n",
       "128908          Expedited    NW007     NW007-ST-CP-XXXL            Set  3XL   \n",
       "128956          Expedited    NW032     NW032-ST-CP-XXXL            Set  3XL   \n",
       "128958          Expedited   SET058       SET058-KR-NP-L            Set    L   \n",
       "128967          Expedited  JNE3638        JNE3638-KR-XS          kurta   XS   \n",
       "\n",
       "              ASIN Courier Status  Qty currency  Amount      ship-city  \\\n",
       "0       B09KXVBD7Z        Shipped    0      INR  647.62         MUMBAI   \n",
       "3       B099NRCT7B        Shipped    0      INR  753.33     PUDUCHERRY   \n",
       "8       B08L91ZZXN      Cancelled    0      INR  605.00      HYDERABAD   \n",
       "23      B099NK55YG        Shipped    0      INR  570.48           pune   \n",
       "29      B07JG3CND8        Shipped    0      INR  605.00       GUWAHATI   \n",
       "...            ...            ...  ...      ...     ...            ...   \n",
       "128907  B0928ZT74Y      Cancelled    0      INR  605.00  GREATER NOIDA   \n",
       "128908  B0928YCMQP      Cancelled    0      INR  605.00  GREATER NOIDA   \n",
       "128956  B0922RYBMF        Shipped    2      INR  992.00        CHENNAI   \n",
       "128958  B07R487XRD      Cancelled    0      INR  605.00      Bengaluru   \n",
       "128967  B09814Q3QH      Cancelled    0      INR  605.00        Kolkata   \n",
       "\n",
       "           ship-state ship-postal-code ship-country  \\\n",
       "0         MAHARASHTRA           400081           IN   \n",
       "3          PUDUCHERRY           605008           IN   \n",
       "8           TELANGANA           500008           IN   \n",
       "23        MAHARASHTRA           411044           IN   \n",
       "29              ASSAM           781003           IN   \n",
       "...               ...              ...          ...   \n",
       "128907  UTTAR PRADESH           201306           IN   \n",
       "128908  UTTAR PRADESH           201306           IN   \n",
       "128956     TAMIL NADU           600042           IN   \n",
       "128958      KARNATAKA           560037           IN   \n",
       "128967    WEST BENGAL           700040           IN   \n",
       "\n",
       "                                       promotion-ids    B2B  \n",
       "0                                            Unknown  False  \n",
       "3                                            Unknown  False  \n",
       "8       IN Core Free Shipping 2015/04/08 23-48-5-108  False  \n",
       "23                                           Unknown  False  \n",
       "29                                           Unknown  False  \n",
       "...                                              ...    ...  \n",
       "128907                                       Unknown  False  \n",
       "128908                                       Unknown  False  \n",
       "128956  IN Core Free Shipping 2015/04/08 23-48-5-108  False  \n",
       "128958                                       Unknown  False  \n",
       "128967                                       Unknown  False  \n",
       "\n",
       "[13187 rows x 21 columns]"
      ]
     },
     "execution_count": 52,
     "metadata": {},
     "output_type": "execute_result"
    }
   ],
   "source": [
    "outliers_qty"
   ]
  },
  {
   "cell_type": "code",
   "execution_count": 53,
   "id": "df6342dc",
   "metadata": {},
   "outputs": [],
   "source": [
    "#Checking for IQR to detect outliers in amount column\n",
    "Q1 = amazon_df_cleaned['Amount'].quantile(0.25)\n",
    "Q3 =  amazon_df_cleaned['Amount'].quantile(0.75)\n",
    "\n",
    "IQR = Q3 - Q1\n",
    "\n",
    "outliers_amount = amazon_df_cleaned[(amazon_df_cleaned['Amount']  < (Q1 - 1.5 * IQR)) | (amazon_df_cleaned['Amount']  >(Q3 + 1.5 * IQR))]\n"
   ]
  },
  {
   "cell_type": "code",
   "execution_count": 54,
   "id": "a95d42c9",
   "metadata": {},
   "outputs": [
    {
     "data": {
      "text/html": [
       "<div>\n",
       "<style scoped>\n",
       "    .dataframe tbody tr th:only-of-type {\n",
       "        vertical-align: middle;\n",
       "    }\n",
       "\n",
       "    .dataframe tbody tr th {\n",
       "        vertical-align: top;\n",
       "    }\n",
       "\n",
       "    .dataframe thead th {\n",
       "        text-align: right;\n",
       "    }\n",
       "</style>\n",
       "<table border=\"1\" class=\"dataframe\">\n",
       "  <thead>\n",
       "    <tr style=\"text-align: right;\">\n",
       "      <th></th>\n",
       "      <th>Order ID</th>\n",
       "      <th>Date</th>\n",
       "      <th>Status</th>\n",
       "      <th>Fulfilment</th>\n",
       "      <th>Sales Channel</th>\n",
       "      <th>ship-service-level</th>\n",
       "      <th>Style</th>\n",
       "      <th>SKU</th>\n",
       "      <th>Category</th>\n",
       "      <th>Size</th>\n",
       "      <th>ASIN</th>\n",
       "      <th>Courier Status</th>\n",
       "      <th>Qty</th>\n",
       "      <th>currency</th>\n",
       "      <th>Amount</th>\n",
       "      <th>ship-city</th>\n",
       "      <th>ship-state</th>\n",
       "      <th>ship-postal-code</th>\n",
       "      <th>ship-country</th>\n",
       "      <th>promotion-ids</th>\n",
       "      <th>B2B</th>\n",
       "    </tr>\n",
       "  </thead>\n",
       "  <tbody>\n",
       "    <tr>\n",
       "      <th>80</th>\n",
       "      <td>408-4069830-3819562</td>\n",
       "      <td>2022-04-30</td>\n",
       "      <td>Shipped</td>\n",
       "      <td>Amazon</td>\n",
       "      <td>Amazon.in</td>\n",
       "      <td>Expedited</td>\n",
       "      <td>SET394</td>\n",
       "      <td>SET394-KR-NP-XXXL</td>\n",
       "      <td>Set</td>\n",
       "      <td>3XL</td>\n",
       "      <td>B09TH6R8K4</td>\n",
       "      <td>Shipped</td>\n",
       "      <td>1</td>\n",
       "      <td>INR</td>\n",
       "      <td>1281.00</td>\n",
       "      <td>Kolkata</td>\n",
       "      <td>WEST BENGAL</td>\n",
       "      <td>700048</td>\n",
       "      <td>IN</td>\n",
       "      <td>IN Core Free Shipping 2015/04/08 23-48-5-108</td>\n",
       "      <td>False</td>\n",
       "    </tr>\n",
       "    <tr>\n",
       "      <th>102</th>\n",
       "      <td>408-7698765-2294756</td>\n",
       "      <td>2022-04-30</td>\n",
       "      <td>Shipped - Delivered to Buyer</td>\n",
       "      <td>Merchant</td>\n",
       "      <td>Amazon.in</td>\n",
       "      <td>Standard</td>\n",
       "      <td>SET277</td>\n",
       "      <td>SET277-KR-NP-XXL</td>\n",
       "      <td>Set</td>\n",
       "      <td>XXL</td>\n",
       "      <td>B0983FZLXC</td>\n",
       "      <td>Shipped</td>\n",
       "      <td>1</td>\n",
       "      <td>INR</td>\n",
       "      <td>1338.00</td>\n",
       "      <td>AMBARNATH</td>\n",
       "      <td>MAHARASHTRA</td>\n",
       "      <td>421502</td>\n",
       "      <td>IN</td>\n",
       "      <td>Amazon PLCC Free-Financing Universal Merchant ...</td>\n",
       "      <td>False</td>\n",
       "    </tr>\n",
       "    <tr>\n",
       "      <th>146</th>\n",
       "      <td>171-0131752-2560336</td>\n",
       "      <td>2022-04-30</td>\n",
       "      <td>Shipped - Delivered to Buyer</td>\n",
       "      <td>Merchant</td>\n",
       "      <td>Amazon.in</td>\n",
       "      <td>Standard</td>\n",
       "      <td>SET355</td>\n",
       "      <td>SET355-KR-PP-M</td>\n",
       "      <td>Set</td>\n",
       "      <td>M</td>\n",
       "      <td>B09RKDPHFP</td>\n",
       "      <td>Shipped</td>\n",
       "      <td>1</td>\n",
       "      <td>INR</td>\n",
       "      <td>1399.00</td>\n",
       "      <td>BARABANKI</td>\n",
       "      <td>UTTAR PRADESH</td>\n",
       "      <td>225001</td>\n",
       "      <td>IN</td>\n",
       "      <td>Amazon PLCC Free-Financing Universal Merchant ...</td>\n",
       "      <td>False</td>\n",
       "    </tr>\n",
       "    <tr>\n",
       "      <th>226</th>\n",
       "      <td>407-4936046-5852304</td>\n",
       "      <td>2022-04-30</td>\n",
       "      <td>Cancelled</td>\n",
       "      <td>Merchant</td>\n",
       "      <td>Amazon.in</td>\n",
       "      <td>Standard</td>\n",
       "      <td>SET355</td>\n",
       "      <td>SET355-KR-PP-XXL</td>\n",
       "      <td>Set</td>\n",
       "      <td>XXL</td>\n",
       "      <td>B09RKD8HQJ</td>\n",
       "      <td>Shipped</td>\n",
       "      <td>0</td>\n",
       "      <td>INR</td>\n",
       "      <td>1249.11</td>\n",
       "      <td>GURUGRAM</td>\n",
       "      <td>HARYANA</td>\n",
       "      <td>122001</td>\n",
       "      <td>IN</td>\n",
       "      <td>Unknown</td>\n",
       "      <td>False</td>\n",
       "    </tr>\n",
       "    <tr>\n",
       "      <th>243</th>\n",
       "      <td>408-2759943-9849959</td>\n",
       "      <td>2022-04-30</td>\n",
       "      <td>Shipped</td>\n",
       "      <td>Amazon</td>\n",
       "      <td>Amazon.in</td>\n",
       "      <td>Expedited</td>\n",
       "      <td>SET363</td>\n",
       "      <td>SET363-KR-NP-XXL</td>\n",
       "      <td>Set</td>\n",
       "      <td>XXL</td>\n",
       "      <td>B09TH61GMF</td>\n",
       "      <td>Shipped</td>\n",
       "      <td>1</td>\n",
       "      <td>INR</td>\n",
       "      <td>1338.00</td>\n",
       "      <td>KOLKATA</td>\n",
       "      <td>WEST BENGAL</td>\n",
       "      <td>700051</td>\n",
       "      <td>IN</td>\n",
       "      <td>IN Core Free Shipping 2015/04/08 23-48-5-108</td>\n",
       "      <td>False</td>\n",
       "    </tr>\n",
       "    <tr>\n",
       "      <th>...</th>\n",
       "      <td>...</td>\n",
       "      <td>...</td>\n",
       "      <td>...</td>\n",
       "      <td>...</td>\n",
       "      <td>...</td>\n",
       "      <td>...</td>\n",
       "      <td>...</td>\n",
       "      <td>...</td>\n",
       "      <td>...</td>\n",
       "      <td>...</td>\n",
       "      <td>...</td>\n",
       "      <td>...</td>\n",
       "      <td>...</td>\n",
       "      <td>...</td>\n",
       "      <td>...</td>\n",
       "      <td>...</td>\n",
       "      <td>...</td>\n",
       "      <td>...</td>\n",
       "      <td>...</td>\n",
       "      <td>...</td>\n",
       "      <td>...</td>\n",
       "    </tr>\n",
       "    <tr>\n",
       "      <th>128811</th>\n",
       "      <td>404-8080630-3948329</td>\n",
       "      <td>2022-06-01</td>\n",
       "      <td>Shipped</td>\n",
       "      <td>Amazon</td>\n",
       "      <td>Amazon.in</td>\n",
       "      <td>Expedited</td>\n",
       "      <td>PSET268</td>\n",
       "      <td>PSET268-KR-NP-5XL</td>\n",
       "      <td>Set</td>\n",
       "      <td>5XL</td>\n",
       "      <td>B09M77H766</td>\n",
       "      <td>Shipped</td>\n",
       "      <td>1</td>\n",
       "      <td>INR</td>\n",
       "      <td>1399.00</td>\n",
       "      <td>Gurgaon</td>\n",
       "      <td>HARYANA</td>\n",
       "      <td>122001</td>\n",
       "      <td>IN</td>\n",
       "      <td>IN Core Free Shipping 2015/04/08 23-48-5-108</td>\n",
       "      <td>False</td>\n",
       "    </tr>\n",
       "    <tr>\n",
       "      <th>128846</th>\n",
       "      <td>407-3299391-4191514</td>\n",
       "      <td>2022-06-01</td>\n",
       "      <td>Cancelled</td>\n",
       "      <td>Amazon</td>\n",
       "      <td>Amazon.in</td>\n",
       "      <td>Expedited</td>\n",
       "      <td>J0277</td>\n",
       "      <td>J0277-SKD-M</td>\n",
       "      <td>Set</td>\n",
       "      <td>M</td>\n",
       "      <td>B08QGL6BRP</td>\n",
       "      <td>Unshipped</td>\n",
       "      <td>1</td>\n",
       "      <td>INR</td>\n",
       "      <td>1364.00</td>\n",
       "      <td>Hyderabad</td>\n",
       "      <td>TELANGANA</td>\n",
       "      <td>500081</td>\n",
       "      <td>IN</td>\n",
       "      <td>Unknown</td>\n",
       "      <td>False</td>\n",
       "    </tr>\n",
       "    <tr>\n",
       "      <th>128873</th>\n",
       "      <td>405-4724097-1016369</td>\n",
       "      <td>2022-06-01</td>\n",
       "      <td>Shipped - Delivered to Buyer</td>\n",
       "      <td>Merchant</td>\n",
       "      <td>Amazon.in</td>\n",
       "      <td>Standard</td>\n",
       "      <td>J0079</td>\n",
       "      <td>J0079-SKD-S</td>\n",
       "      <td>Set</td>\n",
       "      <td>S</td>\n",
       "      <td>B08XNG67ZL</td>\n",
       "      <td>Shipped</td>\n",
       "      <td>1</td>\n",
       "      <td>INR</td>\n",
       "      <td>1523.00</td>\n",
       "      <td>ALLUR</td>\n",
       "      <td>ANDHRA PRADESH</td>\n",
       "      <td>524315</td>\n",
       "      <td>IN</td>\n",
       "      <td>Amazon PLCC Free-Financing Universal Merchant ...</td>\n",
       "      <td>False</td>\n",
       "    </tr>\n",
       "    <tr>\n",
       "      <th>128911</th>\n",
       "      <td>171-2686043-8605144</td>\n",
       "      <td>2022-05-31</td>\n",
       "      <td>Shipped</td>\n",
       "      <td>Amazon</td>\n",
       "      <td>Amazon.in</td>\n",
       "      <td>Expedited</td>\n",
       "      <td>J0230</td>\n",
       "      <td>J0230-SKD-XL</td>\n",
       "      <td>Set</td>\n",
       "      <td>XL</td>\n",
       "      <td>B08XNJ8P3S</td>\n",
       "      <td>Shipped</td>\n",
       "      <td>1</td>\n",
       "      <td>INR</td>\n",
       "      <td>1349.00</td>\n",
       "      <td>PUNE</td>\n",
       "      <td>MAHARASHTRA</td>\n",
       "      <td>411002</td>\n",
       "      <td>IN</td>\n",
       "      <td>Unknown</td>\n",
       "      <td>False</td>\n",
       "    </tr>\n",
       "    <tr>\n",
       "      <th>128957</th>\n",
       "      <td>402-8261465-0622733</td>\n",
       "      <td>2022-05-31</td>\n",
       "      <td>Shipped</td>\n",
       "      <td>Amazon</td>\n",
       "      <td>Amazon.in</td>\n",
       "      <td>Expedited</td>\n",
       "      <td>J0230</td>\n",
       "      <td>J0230-SKD-M</td>\n",
       "      <td>Set</td>\n",
       "      <td>M</td>\n",
       "      <td>B08XNJG8B1</td>\n",
       "      <td>Shipped</td>\n",
       "      <td>1</td>\n",
       "      <td>INR</td>\n",
       "      <td>1349.00</td>\n",
       "      <td>RANCHI</td>\n",
       "      <td>JHARKHAND</td>\n",
       "      <td>834002</td>\n",
       "      <td>IN</td>\n",
       "      <td>IN Core Free Shipping 2015/04/08 23-48-5-108</td>\n",
       "      <td>False</td>\n",
       "    </tr>\n",
       "  </tbody>\n",
       "</table>\n",
       "<p>4176 rows × 21 columns</p>\n",
       "</div>"
      ],
      "text/plain": [
       "                   Order ID       Date                        Status  \\\n",
       "80      408-4069830-3819562 2022-04-30                       Shipped   \n",
       "102     408-7698765-2294756 2022-04-30  Shipped - Delivered to Buyer   \n",
       "146     171-0131752-2560336 2022-04-30  Shipped - Delivered to Buyer   \n",
       "226     407-4936046-5852304 2022-04-30                     Cancelled   \n",
       "243     408-2759943-9849959 2022-04-30                       Shipped   \n",
       "...                     ...        ...                           ...   \n",
       "128811  404-8080630-3948329 2022-06-01                       Shipped   \n",
       "128846  407-3299391-4191514 2022-06-01                     Cancelled   \n",
       "128873  405-4724097-1016369 2022-06-01  Shipped - Delivered to Buyer   \n",
       "128911  171-2686043-8605144 2022-05-31                       Shipped   \n",
       "128957  402-8261465-0622733 2022-05-31                       Shipped   \n",
       "\n",
       "       Fulfilment Sales Channel  ship-service-level    Style  \\\n",
       "80         Amazon      Amazon.in          Expedited   SET394   \n",
       "102      Merchant      Amazon.in           Standard   SET277   \n",
       "146      Merchant      Amazon.in           Standard   SET355   \n",
       "226      Merchant      Amazon.in           Standard   SET355   \n",
       "243        Amazon      Amazon.in          Expedited   SET363   \n",
       "...           ...            ...                ...      ...   \n",
       "128811     Amazon      Amazon.in          Expedited  PSET268   \n",
       "128846     Amazon      Amazon.in          Expedited    J0277   \n",
       "128873   Merchant      Amazon.in           Standard    J0079   \n",
       "128911     Amazon      Amazon.in          Expedited    J0230   \n",
       "128957     Amazon      Amazon.in          Expedited    J0230   \n",
       "\n",
       "                      SKU Category Size        ASIN Courier Status  Qty  \\\n",
       "80      SET394-KR-NP-XXXL      Set  3XL  B09TH6R8K4        Shipped    1   \n",
       "102      SET277-KR-NP-XXL      Set  XXL  B0983FZLXC        Shipped    1   \n",
       "146        SET355-KR-PP-M      Set    M  B09RKDPHFP        Shipped    1   \n",
       "226      SET355-KR-PP-XXL      Set  XXL  B09RKD8HQJ        Shipped    0   \n",
       "243      SET363-KR-NP-XXL      Set  XXL  B09TH61GMF        Shipped    1   \n",
       "...                   ...      ...  ...         ...            ...  ...   \n",
       "128811  PSET268-KR-NP-5XL      Set  5XL  B09M77H766        Shipped    1   \n",
       "128846        J0277-SKD-M      Set    M  B08QGL6BRP      Unshipped    1   \n",
       "128873        J0079-SKD-S      Set    S  B08XNG67ZL        Shipped    1   \n",
       "128911       J0230-SKD-XL      Set   XL  B08XNJ8P3S        Shipped    1   \n",
       "128957        J0230-SKD-M      Set    M  B08XNJG8B1        Shipped    1   \n",
       "\n",
       "       currency   Amount  ship-city      ship-state ship-postal-code  \\\n",
       "80          INR  1281.00    Kolkata     WEST BENGAL           700048   \n",
       "102         INR  1338.00  AMBARNATH     MAHARASHTRA           421502   \n",
       "146         INR  1399.00  BARABANKI   UTTAR PRADESH           225001   \n",
       "226         INR  1249.11   GURUGRAM         HARYANA           122001   \n",
       "243         INR  1338.00    KOLKATA     WEST BENGAL           700051   \n",
       "...         ...      ...        ...             ...              ...   \n",
       "128811      INR  1399.00    Gurgaon         HARYANA           122001   \n",
       "128846      INR  1364.00  Hyderabad       TELANGANA           500081   \n",
       "128873      INR  1523.00      ALLUR  ANDHRA PRADESH           524315   \n",
       "128911      INR  1349.00       PUNE     MAHARASHTRA           411002   \n",
       "128957      INR  1349.00     RANCHI       JHARKHAND           834002   \n",
       "\n",
       "       ship-country                                      promotion-ids    B2B  \n",
       "80               IN       IN Core Free Shipping 2015/04/08 23-48-5-108  False  \n",
       "102              IN  Amazon PLCC Free-Financing Universal Merchant ...  False  \n",
       "146              IN  Amazon PLCC Free-Financing Universal Merchant ...  False  \n",
       "226              IN                                            Unknown  False  \n",
       "243              IN       IN Core Free Shipping 2015/04/08 23-48-5-108  False  \n",
       "...             ...                                                ...    ...  \n",
       "128811           IN       IN Core Free Shipping 2015/04/08 23-48-5-108  False  \n",
       "128846           IN                                            Unknown  False  \n",
       "128873           IN  Amazon PLCC Free-Financing Universal Merchant ...  False  \n",
       "128911           IN                                            Unknown  False  \n",
       "128957           IN       IN Core Free Shipping 2015/04/08 23-48-5-108  False  \n",
       "\n",
       "[4176 rows x 21 columns]"
      ]
     },
     "execution_count": 54,
     "metadata": {},
     "output_type": "execute_result"
    }
   ],
   "source": [
    "outliers_amount"
   ]
  },
  {
   "cell_type": "code",
   "execution_count": 55,
   "id": "97a6d4b0",
   "metadata": {},
   "outputs": [
    {
     "name": "stdout",
     "output_type": "stream",
     "text": [
      "Qty\n",
      "2     341\n",
      "3      32\n",
      "4       9\n",
      "5       2\n",
      "15      1\n",
      "9       1\n",
      "13      1\n",
      "8       1\n",
      "Name: count, dtype: int64\n",
      "Amount\n",
      "1399.0    321\n",
      "1299.0    314\n",
      "1338.0    283\n",
      "1523.0    278\n",
      "1349.0    254\n",
      "         ... \n",
      "1923.0      1\n",
      "1799.0      1\n",
      "1396.0      1\n",
      "2397.0      1\n",
      "1244.0      1\n",
      "Name: count, Length: 204, dtype: int64\n"
     ]
    }
   ],
   "source": [
    "# Count occurrences of each outlier in Qty\n",
    "print(amazon_df_cleaned[amazon_df_cleaned['Qty'] > amazon_df_cleaned['Qty'].quantile(0.75) + 1.5 * (amazon_df_cleaned['Qty'].quantile(0.75) - amazon_df_cleaned['Qty'].quantile(0.25))]['Qty'].value_counts())\n",
    "\n",
    "# Count occurrences of each outlier in Amount\n",
    "print(amazon_df_cleaned[amazon_df_cleaned['Amount'] > amazon_df_cleaned['Amount'].quantile(0.75) + 1.5 * (amazon_df_cleaned['Amount'].quantile(0.75) - amazon_df_cleaned['Amount'].quantile(0.25))]['Amount'].value_counts())\n"
   ]
  },
  {
   "cell_type": "code",
   "execution_count": 56,
   "id": "4a81310f",
   "metadata": {},
   "outputs": [
    {
     "data": {
      "text/html": [
       "<div>\n",
       "<style scoped>\n",
       "    .dataframe tbody tr th:only-of-type {\n",
       "        vertical-align: middle;\n",
       "    }\n",
       "\n",
       "    .dataframe tbody tr th {\n",
       "        vertical-align: top;\n",
       "    }\n",
       "\n",
       "    .dataframe thead th {\n",
       "        text-align: right;\n",
       "    }\n",
       "</style>\n",
       "<table border=\"1\" class=\"dataframe\">\n",
       "  <thead>\n",
       "    <tr style=\"text-align: right;\">\n",
       "      <th></th>\n",
       "      <th>Order ID</th>\n",
       "      <th>Date</th>\n",
       "      <th>Status</th>\n",
       "      <th>Fulfilment</th>\n",
       "      <th>Sales Channel</th>\n",
       "      <th>ship-service-level</th>\n",
       "      <th>Style</th>\n",
       "      <th>SKU</th>\n",
       "      <th>Category</th>\n",
       "      <th>Size</th>\n",
       "      <th>ASIN</th>\n",
       "      <th>Courier Status</th>\n",
       "      <th>Qty</th>\n",
       "      <th>currency</th>\n",
       "      <th>Amount</th>\n",
       "      <th>ship-city</th>\n",
       "      <th>ship-state</th>\n",
       "      <th>ship-postal-code</th>\n",
       "      <th>ship-country</th>\n",
       "      <th>promotion-ids</th>\n",
       "      <th>B2B</th>\n",
       "    </tr>\n",
       "  </thead>\n",
       "  <tbody>\n",
       "    <tr>\n",
       "      <th>937</th>\n",
       "      <td>S02-5278980-4327051</td>\n",
       "      <td>2022-04-30</td>\n",
       "      <td>Shipped</td>\n",
       "      <td>Amazon</td>\n",
       "      <td>Non-Amazon</td>\n",
       "      <td>Standard</td>\n",
       "      <td>BL017</td>\n",
       "      <td>BL017-63BLACK</td>\n",
       "      <td>Blouse</td>\n",
       "      <td>Free</td>\n",
       "      <td>B077Z7WDXN</td>\n",
       "      <td>Unshipped</td>\n",
       "      <td>15</td>\n",
       "      <td>INR</td>\n",
       "      <td>605.0</td>\n",
       "      <td>Surat</td>\n",
       "      <td>Gujarat</td>\n",
       "      <td>394210</td>\n",
       "      <td>IN</td>\n",
       "      <td>Unknown</td>\n",
       "      <td>False</td>\n",
       "    </tr>\n",
       "    <tr>\n",
       "      <th>3631</th>\n",
       "      <td>S02-1006261-5356758</td>\n",
       "      <td>2022-04-28</td>\n",
       "      <td>Shipped</td>\n",
       "      <td>Amazon</td>\n",
       "      <td>Non-Amazon</td>\n",
       "      <td>Standard</td>\n",
       "      <td>JNE2305</td>\n",
       "      <td>JNE2305-KR-533-L</td>\n",
       "      <td>kurta</td>\n",
       "      <td>L</td>\n",
       "      <td>B07GRSCXCP</td>\n",
       "      <td>Unshipped</td>\n",
       "      <td>9</td>\n",
       "      <td>INR</td>\n",
       "      <td>605.0</td>\n",
       "      <td>Surat</td>\n",
       "      <td>Gujarat</td>\n",
       "      <td>394210</td>\n",
       "      <td>IN</td>\n",
       "      <td>Unknown</td>\n",
       "      <td>False</td>\n",
       "    </tr>\n",
       "    <tr>\n",
       "      <th>3636</th>\n",
       "      <td>S02-6828927-1180856</td>\n",
       "      <td>2022-04-28</td>\n",
       "      <td>Shipped</td>\n",
       "      <td>Amazon</td>\n",
       "      <td>Non-Amazon</td>\n",
       "      <td>Standard</td>\n",
       "      <td>JNE2305</td>\n",
       "      <td>JNE2305-KR-533-XXL</td>\n",
       "      <td>kurta</td>\n",
       "      <td>XXL</td>\n",
       "      <td>B07GRRLW2H</td>\n",
       "      <td>Unshipped</td>\n",
       "      <td>13</td>\n",
       "      <td>INR</td>\n",
       "      <td>605.0</td>\n",
       "      <td>Surat</td>\n",
       "      <td>Gujarat</td>\n",
       "      <td>394210</td>\n",
       "      <td>IN</td>\n",
       "      <td>Unknown</td>\n",
       "      <td>False</td>\n",
       "    </tr>\n",
       "    <tr>\n",
       "      <th>42039</th>\n",
       "      <td>402-5239558-4281957</td>\n",
       "      <td>2022-04-05</td>\n",
       "      <td>Shipped</td>\n",
       "      <td>Amazon</td>\n",
       "      <td>Amazon.in</td>\n",
       "      <td>Expedited</td>\n",
       "      <td>SET268</td>\n",
       "      <td>SET268-KR-NP-XS</td>\n",
       "      <td>Set</td>\n",
       "      <td>XS</td>\n",
       "      <td>B08XQBXFPP</td>\n",
       "      <td>Shipped</td>\n",
       "      <td>8</td>\n",
       "      <td>INR</td>\n",
       "      <td>5584.0</td>\n",
       "      <td>GUNTUR</td>\n",
       "      <td>ANDHRA PRADESH</td>\n",
       "      <td>522007</td>\n",
       "      <td>IN</td>\n",
       "      <td>Unknown</td>\n",
       "      <td>False</td>\n",
       "    </tr>\n",
       "  </tbody>\n",
       "</table>\n",
       "</div>"
      ],
      "text/plain": [
       "                  Order ID       Date   Status Fulfilment Sales Channel   \\\n",
       "937    S02-5278980-4327051 2022-04-30  Shipped     Amazon     Non-Amazon   \n",
       "3631   S02-1006261-5356758 2022-04-28  Shipped     Amazon     Non-Amazon   \n",
       "3636   S02-6828927-1180856 2022-04-28  Shipped     Amazon     Non-Amazon   \n",
       "42039  402-5239558-4281957 2022-04-05  Shipped     Amazon      Amazon.in   \n",
       "\n",
       "      ship-service-level    Style                 SKU Category  Size  \\\n",
       "937             Standard    BL017       BL017-63BLACK   Blouse  Free   \n",
       "3631            Standard  JNE2305    JNE2305-KR-533-L    kurta     L   \n",
       "3636            Standard  JNE2305  JNE2305-KR-533-XXL    kurta   XXL   \n",
       "42039          Expedited   SET268     SET268-KR-NP-XS      Set    XS   \n",
       "\n",
       "             ASIN Courier Status  Qty currency  Amount ship-city  \\\n",
       "937    B077Z7WDXN      Unshipped   15      INR   605.0     Surat   \n",
       "3631   B07GRSCXCP      Unshipped    9      INR   605.0     Surat   \n",
       "3636   B07GRRLW2H      Unshipped   13      INR   605.0     Surat   \n",
       "42039  B08XQBXFPP        Shipped    8      INR  5584.0    GUNTUR   \n",
       "\n",
       "           ship-state ship-postal-code ship-country promotion-ids    B2B  \n",
       "937           Gujarat           394210           IN       Unknown  False  \n",
       "3631          Gujarat           394210           IN       Unknown  False  \n",
       "3636          Gujarat           394210           IN       Unknown  False  \n",
       "42039  ANDHRA PRADESH           522007           IN       Unknown  False  "
      ]
     },
     "execution_count": 56,
     "metadata": {},
     "output_type": "execute_result"
    }
   ],
   "source": [
    "amazon_df_cleaned[(amazon_df_cleaned['Qty'] > 5)]"
   ]
  },
  {
   "cell_type": "code",
   "execution_count": 57,
   "id": "cd24e054",
   "metadata": {},
   "outputs": [],
   "source": [
    "amazon_df_cleaned['promotion_flag'] = amazon_df_cleaned['promotion-ids'].apply(lambda x: 'Unknown' if x == 'Unknown' else 'Known')\n"
   ]
  },
  {
   "cell_type": "code",
   "execution_count": 58,
   "id": "bdc18f3c",
   "metadata": {},
   "outputs": [
    {
     "data": {
      "text/html": [
       "<div>\n",
       "<style scoped>\n",
       "    .dataframe tbody tr th:only-of-type {\n",
       "        vertical-align: middle;\n",
       "    }\n",
       "\n",
       "    .dataframe tbody tr th {\n",
       "        vertical-align: top;\n",
       "    }\n",
       "\n",
       "    .dataframe thead tr th {\n",
       "        text-align: left;\n",
       "    }\n",
       "\n",
       "    .dataframe thead tr:last-of-type th {\n",
       "        text-align: right;\n",
       "    }\n",
       "</style>\n",
       "<table border=\"1\" class=\"dataframe\">\n",
       "  <thead>\n",
       "    <tr>\n",
       "      <th></th>\n",
       "      <th colspan=\"8\" halign=\"left\">Qty</th>\n",
       "      <th colspan=\"8\" halign=\"left\">Amount</th>\n",
       "    </tr>\n",
       "    <tr>\n",
       "      <th></th>\n",
       "      <th>count</th>\n",
       "      <th>mean</th>\n",
       "      <th>std</th>\n",
       "      <th>min</th>\n",
       "      <th>25%</th>\n",
       "      <th>50%</th>\n",
       "      <th>75%</th>\n",
       "      <th>max</th>\n",
       "      <th>count</th>\n",
       "      <th>mean</th>\n",
       "      <th>std</th>\n",
       "      <th>min</th>\n",
       "      <th>25%</th>\n",
       "      <th>50%</th>\n",
       "      <th>75%</th>\n",
       "      <th>max</th>\n",
       "    </tr>\n",
       "    <tr>\n",
       "      <th>promotion_flag</th>\n",
       "      <th></th>\n",
       "      <th></th>\n",
       "      <th></th>\n",
       "      <th></th>\n",
       "      <th></th>\n",
       "      <th></th>\n",
       "      <th></th>\n",
       "      <th></th>\n",
       "      <th></th>\n",
       "      <th></th>\n",
       "      <th></th>\n",
       "      <th></th>\n",
       "      <th></th>\n",
       "      <th></th>\n",
       "      <th></th>\n",
       "      <th></th>\n",
       "    </tr>\n",
       "  </thead>\n",
       "  <tbody>\n",
       "    <tr>\n",
       "      <th>Known</th>\n",
       "      <td>79794.0</td>\n",
       "      <td>1.000376</td>\n",
       "      <td>0.102235</td>\n",
       "      <td>0.0</td>\n",
       "      <td>1.0</td>\n",
       "      <td>1.0</td>\n",
       "      <td>1.0</td>\n",
       "      <td>5.0</td>\n",
       "      <td>79794.0</td>\n",
       "      <td>673.925019</td>\n",
       "      <td>274.523811</td>\n",
       "      <td>0.0</td>\n",
       "      <td>477.0</td>\n",
       "      <td>635.0</td>\n",
       "      <td>791.0000</td>\n",
       "      <td>5495.0</td>\n",
       "    </tr>\n",
       "    <tr>\n",
       "      <th>Unknown</th>\n",
       "      <td>49142.0</td>\n",
       "      <td>0.748728</td>\n",
       "      <td>0.448783</td>\n",
       "      <td>0.0</td>\n",
       "      <td>0.0</td>\n",
       "      <td>1.0</td>\n",
       "      <td>1.0</td>\n",
       "      <td>15.0</td>\n",
       "      <td>49142.0</td>\n",
       "      <td>600.487349</td>\n",
       "      <td>263.699742</td>\n",
       "      <td>0.0</td>\n",
       "      <td>434.0</td>\n",
       "      <td>605.0</td>\n",
       "      <td>714.8225</td>\n",
       "      <td>5584.0</td>\n",
       "    </tr>\n",
       "  </tbody>\n",
       "</table>\n",
       "</div>"
      ],
      "text/plain": [
       "                    Qty                                                \\\n",
       "                  count      mean       std  min  25%  50%  75%   max   \n",
       "promotion_flag                                                          \n",
       "Known           79794.0  1.000376  0.102235  0.0  1.0  1.0  1.0   5.0   \n",
       "Unknown         49142.0  0.748728  0.448783  0.0  0.0  1.0  1.0  15.0   \n",
       "\n",
       "                 Amount                                                       \\\n",
       "                  count        mean         std  min    25%    50%       75%   \n",
       "promotion_flag                                                                 \n",
       "Known           79794.0  673.925019  274.523811  0.0  477.0  635.0  791.0000   \n",
       "Unknown         49142.0  600.487349  263.699742  0.0  434.0  605.0  714.8225   \n",
       "\n",
       "                        \n",
       "                   max  \n",
       "promotion_flag          \n",
       "Known           5495.0  \n",
       "Unknown         5584.0  "
      ]
     },
     "execution_count": 58,
     "metadata": {},
     "output_type": "execute_result"
    }
   ],
   "source": [
    "amazon_df_cleaned.groupby('promotion_flag')[['Qty', 'Amount']].describe()\n"
   ]
  },
  {
   "cell_type": "markdown",
   "id": "eba98d6a",
   "metadata": {},
   "source": [
    "#### Since the bulk quantity of order doesn't align with any special events or holidays , droping them would be a good decission "
   ]
  },
  {
   "cell_type": "code",
   "execution_count": 59,
   "id": "2fc7c394",
   "metadata": {},
   "outputs": [],
   "source": [
    "#Keeping only reasonable quantities\n",
    "amazon_df_cleaned = amazon_df_cleaned[amazon_df_cleaned['Qty'] <= 5]"
   ]
  },
  {
   "cell_type": "code",
   "execution_count": 60,
   "id": "163b4f8f",
   "metadata": {
    "scrolled": true
   },
   "outputs": [
    {
     "name": "stdout",
     "output_type": "stream",
     "text": [
      "             Qty     Amount\n",
      "count  128932.00  128932.00\n",
      "mean        0.90     645.90\n",
      "std         0.31     272.45\n",
      "min         0.00       0.00\n",
      "25%         1.00     459.00\n",
      "50%         1.00     605.00\n",
      "75%         1.00     771.00\n",
      "max         5.00    5495.00\n"
     ]
    }
   ],
   "source": [
    "print(round(amazon_df_cleaned[['Qty', 'Amount']].describe(),2))"
   ]
  },
  {
   "cell_type": "code",
   "execution_count": 61,
   "id": "8670fa2a",
   "metadata": {},
   "outputs": [
    {
     "data": {
      "text/plain": [
       "-2.1887377669653167"
      ]
     },
     "execution_count": 61,
     "metadata": {},
     "output_type": "execute_result"
    }
   ],
   "source": [
    "amazon_df_cleaned['Qty'].skew()"
   ]
  },
  {
   "cell_type": "code",
   "execution_count": 62,
   "id": "45fbdee8",
   "metadata": {},
   "outputs": [
    {
     "data": {
      "text/plain": [
       "1"
      ]
     },
     "execution_count": 62,
     "metadata": {},
     "output_type": "execute_result"
    }
   ],
   "source": [
    "amazon_df_cleaned['Qty'].mode()[0]"
   ]
  },
  {
   "cell_type": "code",
   "execution_count": 63,
   "id": "e6db4eb2",
   "metadata": {},
   "outputs": [
    {
     "data": {
      "text/plain": [
       "Qty\n",
       "1    115749\n",
       "0     12799\n",
       "2       341\n",
       "3        32\n",
       "4         9\n",
       "5         2\n",
       "Name: count, dtype: int64"
      ]
     },
     "execution_count": 63,
     "metadata": {},
     "output_type": "execute_result"
    }
   ],
   "source": [
    "amazon_df_cleaned['Qty'].value_counts()"
   ]
  },
  {
   "cell_type": "code",
   "execution_count": 64,
   "id": "0fb61670",
   "metadata": {},
   "outputs": [
    {
     "data": {
      "image/png": "[encoded data removed]",
      "text/plain": [
       "<Figure size 640x480 with 1 Axes>"
      ]
     },
     "metadata": {},
     "output_type": "display_data"
    }
   ],
   "source": [
    "sns.histplot(amazon_df_cleaned['Qty'], bins = 10, kde = True)\n",
    "plt.title('Distribution of Quantity')\n",
    "plt.show()"
   ]
  },
  {
   "cell_type": "code",
   "execution_count": 65,
   "id": "24c9ba11",
   "metadata": {
    "scrolled": true
   },
   "outputs": [
    {
     "data": {
      "text/plain": [
       "Status\n",
       "Cancelled                       12693\n",
       "Shipped                            93\n",
       "Shipped - Delivered to Buyer        8\n",
       "Shipped - Returned to Seller        3\n",
       "Pending                             2\n",
       "Name: count, dtype: int64"
      ]
     },
     "execution_count": 65,
     "metadata": {},
     "output_type": "execute_result"
    }
   ],
   "source": [
    "#checking where quantity is 0\n",
    "amazon_df_cleaned[amazon_df_cleaned['Qty'] == 0]['Status'].value_counts()"
   ]
  },
  {
   "cell_type": "code",
   "execution_count": 66,
   "id": "cd14ef99",
   "metadata": {},
   "outputs": [],
   "source": [
    "#Filtering the data where quantity is 0 and status is cancelled\n",
    "amazon_df_cleaned = amazon_df_cleaned[~((amazon_df_cleaned['Qty'] == 0 ) & (amazon_df_cleaned['Status'] != 'Cancelled'))]"
   ]
  },
  {
   "cell_type": "code",
   "execution_count": 67,
   "id": "99348386",
   "metadata": {},
   "outputs": [
    {
     "data": {
      "text/plain": [
       "Status\n",
       "Cancelled    12693\n",
       "Name: count, dtype: int64"
      ]
     },
     "execution_count": 67,
     "metadata": {},
     "output_type": "execute_result"
    }
   ],
   "source": [
    "amazon_df_cleaned[amazon_df_cleaned['Qty'] == 0]['Status'].value_counts()"
   ]
  },
  {
   "cell_type": "markdown",
   "id": "d981ca66",
   "metadata": {},
   "source": [
    "##### Handelling the outliers in 'Amount' column"
   ]
  },
  {
   "cell_type": "code",
   "execution_count": 68,
   "id": "a83edd2a",
   "metadata": {},
   "outputs": [],
   "source": [
    "#removing the outliers of amount column\n",
    "IQR = amazon_df_cleaned['Amount'].quantile(0.75) - amazon_df_cleaned['Amount'].quantile(0.25)\n",
    "1.5*IQR\n",
    "upper_bound = amazon_df_cleaned['Amount'].quantile(0.75) + 1.5*IQR   \n",
    "lower_bound = amazon_df_cleaned['Amount'].quantile(0.25) - 1.5*IQR \n",
    "Median = amazon_df_cleaned['Amount'].median()\n",
    "amazon_df_cleaned['Amount'] = amazon_df_cleaned['Amount'].apply(lambda x: Median if x > upper_bound  or x < lower_bound else x)"
   ]
  },
  {
   "cell_type": "code",
   "execution_count": 69,
   "id": "b89b999f",
   "metadata": {},
   "outputs": [
    {
     "data": {
      "image/png": "[encoded data removed]",
      "text/plain": [
       "<Figure size 640x480 with 1 Axes>"
      ]
     },
     "metadata": {},
     "output_type": "display_data"
    }
   ],
   "source": [
    "sns.boxplot(x=amazon_df_cleaned['Amount'])\n",
    "plt.show()"
   ]
  },
  {
   "cell_type": "code",
   "execution_count": 70,
   "id": "4ffe91d1",
   "metadata": {},
   "outputs": [
    {
     "data": {
      "text/html": [
       "<div>\n",
       "<style scoped>\n",
       "    .dataframe tbody tr th:only-of-type {\n",
       "        vertical-align: middle;\n",
       "    }\n",
       "\n",
       "    .dataframe tbody tr th {\n",
       "        vertical-align: top;\n",
       "    }\n",
       "\n",
       "    .dataframe thead th {\n",
       "        text-align: right;\n",
       "    }\n",
       "</style>\n",
       "<table border=\"1\" class=\"dataframe\">\n",
       "  <thead>\n",
       "    <tr style=\"text-align: right;\">\n",
       "      <th></th>\n",
       "      <th>Order ID</th>\n",
       "      <th>Date</th>\n",
       "      <th>Status</th>\n",
       "      <th>Fulfilment</th>\n",
       "      <th>Sales Channel</th>\n",
       "      <th>ship-service-level</th>\n",
       "      <th>Style</th>\n",
       "      <th>SKU</th>\n",
       "      <th>Category</th>\n",
       "      <th>Size</th>\n",
       "      <th>ASIN</th>\n",
       "      <th>Courier Status</th>\n",
       "      <th>Qty</th>\n",
       "      <th>currency</th>\n",
       "      <th>Amount</th>\n",
       "      <th>ship-city</th>\n",
       "      <th>ship-state</th>\n",
       "      <th>ship-postal-code</th>\n",
       "      <th>ship-country</th>\n",
       "      <th>promotion-ids</th>\n",
       "      <th>B2B</th>\n",
       "      <th>promotion_flag</th>\n",
       "    </tr>\n",
       "  </thead>\n",
       "  <tbody>\n",
       "  </tbody>\n",
       "</table>\n",
       "</div>"
      ],
      "text/plain": [
       "Empty DataFrame\n",
       "Columns: [Order ID, Date, Status, Fulfilment, Sales Channel , ship-service-level, Style, SKU, Category, Size, ASIN, Courier Status, Qty, currency, Amount, ship-city, ship-state, ship-postal-code, ship-country, promotion-ids, B2B, promotion_flag]\n",
       "Index: []"
      ]
     },
     "execution_count": 70,
     "metadata": {},
     "output_type": "execute_result"
    }
   ],
   "source": [
    "amazon_df_cleaned[amazon_df_cleaned['Amount'] > 4000]"
   ]
  },
  {
   "cell_type": "code",
   "execution_count": 71,
   "id": "4b656f80",
   "metadata": {},
   "outputs": [
    {
     "data": {
      "text/plain": [
       "count    12693.000000\n",
       "mean       605.683650\n",
       "std        137.401551\n",
       "min        218.100000\n",
       "25%        605.000000\n",
       "50%        605.000000\n",
       "75%        605.000000\n",
       "max       1232.380000\n",
       "Name: Amount, dtype: float64"
      ]
     },
     "execution_count": 71,
     "metadata": {},
     "output_type": "execute_result"
    }
   ],
   "source": [
    "amazon_df_cleaned[amazon_df_cleaned['Qty'] == 0]['Amount'].describe()"
   ]
  },
  {
   "cell_type": "code",
   "execution_count": 72,
   "id": "011edae9",
   "metadata": {},
   "outputs": [
    {
     "data": {
      "text/plain": [
       "Order ID              0\n",
       "Date                  0\n",
       "Status                0\n",
       "Fulfilment            0\n",
       "Sales Channel         0\n",
       "ship-service-level    0\n",
       "Style                 0\n",
       "SKU                   0\n",
       "Category              0\n",
       "Size                  0\n",
       "ASIN                  0\n",
       "Courier Status        0\n",
       "Qty                   0\n",
       "currency              0\n",
       "Amount                0\n",
       "ship-city             0\n",
       "ship-state            0\n",
       "ship-postal-code      0\n",
       "ship-country          0\n",
       "promotion-ids         0\n",
       "B2B                   0\n",
       "promotion_flag        0\n",
       "dtype: int64"
      ]
     },
     "execution_count": 72,
     "metadata": {},
     "output_type": "execute_result"
    }
   ],
   "source": [
    "amazon_df_cleaned.isnull().sum()"
   ]
  },
  {
   "cell_type": "code",
   "execution_count": 73,
   "id": "edbc800d",
   "metadata": {},
   "outputs": [
    {
     "data": {
      "text/plain": [
       "0"
      ]
     },
     "execution_count": 73,
     "metadata": {},
     "output_type": "execute_result"
    }
   ],
   "source": [
    "amazon_df_cleaned.duplicated().sum()"
   ]
  },
  {
   "cell_type": "code",
   "execution_count": 74,
   "id": "57ac4247",
   "metadata": {},
   "outputs": [],
   "source": [
    "amazon_df_cleaned.columns = ['order_id', 'date', 'status', 'fulfilment', 'sales_channel ',\n",
    "       'ship_service_level', 'style', 'sku', 'category', 'size', 'asin',\n",
    "       'courier_status', 'quantity', 'currency', 'amount', 'ship_city',\n",
    "       'ship_state', 'ship_postal_code', 'ship_country', 'promotion_ids',\n",
    "       'b2b', 'promotion_flag']"
   ]
  },
  {
   "cell_type": "code",
   "execution_count": 75,
   "id": "35a00362",
   "metadata": {},
   "outputs": [],
   "source": [
    "#reseting the index\n",
    "amazon_df_cleaned.reset_index(drop=True, inplace=True)"
   ]
  },
  {
   "cell_type": "code",
   "execution_count": 76,
   "id": "b1b48ff7",
   "metadata": {},
   "outputs": [],
   "source": [
    "amazon_df_cleaned.to_csv(r'F:\\Amazon_Sales_Analysis\\data\\processsed\\amazon_df_cleaned.csv', index=False)"
   ]
  },
  {
   "cell_type": "code",
   "execution_count": 77,
   "id": "43b1e470",
   "metadata": {},
   "outputs": [],
   "source": [
    "amazon_df_analysis = pd.read_csv('F:/Amazon_Sales_Analysis/data/processsed/amazon_df_cleaned.csv' , dtype = {'category' : 'category', 'ship_postal_code' : 'object'})\n",
    "\n",
    "amazon_df_analysis['date'] = pd.to_datetime(amazon_df_analysis['date'])"
   ]
  },
  {
   "cell_type": "code",
   "execution_count": 78,
   "id": "50a3efa7",
   "metadata": {},
   "outputs": [
    {
     "data": {
      "text/html": [
       "<div>\n",
       "<style scoped>\n",
       "    .dataframe tbody tr th:only-of-type {\n",
       "        vertical-align: middle;\n",
       "    }\n",
       "\n",
       "    .dataframe tbody tr th {\n",
       "        vertical-align: top;\n",
       "    }\n",
       "\n",
       "    .dataframe thead th {\n",
       "        text-align: right;\n",
       "    }\n",
       "</style>\n",
       "<table border=\"1\" class=\"dataframe\">\n",
       "  <thead>\n",
       "    <tr style=\"text-align: right;\">\n",
       "      <th></th>\n",
       "      <th>order_id</th>\n",
       "      <th>date</th>\n",
       "      <th>status</th>\n",
       "      <th>fulfilment</th>\n",
       "      <th>sales_channel</th>\n",
       "      <th>ship_service_level</th>\n",
       "      <th>style</th>\n",
       "      <th>sku</th>\n",
       "      <th>category</th>\n",
       "      <th>size</th>\n",
       "      <th>asin</th>\n",
       "      <th>courier_status</th>\n",
       "      <th>quantity</th>\n",
       "      <th>currency</th>\n",
       "      <th>amount</th>\n",
       "      <th>ship_city</th>\n",
       "      <th>ship_state</th>\n",
       "      <th>ship_postal_code</th>\n",
       "      <th>ship_country</th>\n",
       "      <th>promotion_ids</th>\n",
       "      <th>b2b</th>\n",
       "      <th>promotion_flag</th>\n",
       "    </tr>\n",
       "  </thead>\n",
       "  <tbody>\n",
       "    <tr>\n",
       "      <th>0</th>\n",
       "      <td>405-8078784-5731545</td>\n",
       "      <td>2022-04-30</td>\n",
       "      <td>Cancelled</td>\n",
       "      <td>Merchant</td>\n",
       "      <td>Amazon.in</td>\n",
       "      <td>Standard</td>\n",
       "      <td>SET389</td>\n",
       "      <td>SET389-KR-NP-S</td>\n",
       "      <td>Set</td>\n",
       "      <td>S</td>\n",
       "      <td>B09KXVBD7Z</td>\n",
       "      <td>Shipped</td>\n",
       "      <td>0</td>\n",
       "      <td>INR</td>\n",
       "      <td>647.62</td>\n",
       "      <td>MUMBAI</td>\n",
       "      <td>MAHARASHTRA</td>\n",
       "      <td>400081</td>\n",
       "      <td>IN</td>\n",
       "      <td>Unknown</td>\n",
       "      <td>False</td>\n",
       "      <td>Unknown</td>\n",
       "    </tr>\n",
       "    <tr>\n",
       "      <th>1</th>\n",
       "      <td>171-9198151-1101146</td>\n",
       "      <td>2022-04-30</td>\n",
       "      <td>Shipped - Delivered to Buyer</td>\n",
       "      <td>Merchant</td>\n",
       "      <td>Amazon.in</td>\n",
       "      <td>Standard</td>\n",
       "      <td>JNE3781</td>\n",
       "      <td>JNE3781-KR-XXXL</td>\n",
       "      <td>kurta</td>\n",
       "      <td>3XL</td>\n",
       "      <td>B09K3WFS32</td>\n",
       "      <td>Shipped</td>\n",
       "      <td>1</td>\n",
       "      <td>INR</td>\n",
       "      <td>406.00</td>\n",
       "      <td>BENGALURU</td>\n",
       "      <td>KARNATAKA</td>\n",
       "      <td>560085</td>\n",
       "      <td>IN</td>\n",
       "      <td>Amazon PLCC Free-Financing Universal Merchant ...</td>\n",
       "      <td>False</td>\n",
       "      <td>Known</td>\n",
       "    </tr>\n",
       "    <tr>\n",
       "      <th>2</th>\n",
       "      <td>404-0687676-7273146</td>\n",
       "      <td>2022-04-30</td>\n",
       "      <td>Shipped</td>\n",
       "      <td>Amazon</td>\n",
       "      <td>Amazon.in</td>\n",
       "      <td>Expedited</td>\n",
       "      <td>JNE3371</td>\n",
       "      <td>JNE3371-KR-XL</td>\n",
       "      <td>kurta</td>\n",
       "      <td>XL</td>\n",
       "      <td>B07WV4JV4D</td>\n",
       "      <td>Shipped</td>\n",
       "      <td>1</td>\n",
       "      <td>INR</td>\n",
       "      <td>329.00</td>\n",
       "      <td>NAVI MUMBAI</td>\n",
       "      <td>MAHARASHTRA</td>\n",
       "      <td>410210</td>\n",
       "      <td>IN</td>\n",
       "      <td>IN Core Free Shipping 2015/04/08 23-48-5-108</td>\n",
       "      <td>True</td>\n",
       "      <td>Known</td>\n",
       "    </tr>\n",
       "    <tr>\n",
       "      <th>3</th>\n",
       "      <td>403-9615377-8133951</td>\n",
       "      <td>2022-04-30</td>\n",
       "      <td>Cancelled</td>\n",
       "      <td>Merchant</td>\n",
       "      <td>Amazon.in</td>\n",
       "      <td>Standard</td>\n",
       "      <td>J0341</td>\n",
       "      <td>J0341-DR-L</td>\n",
       "      <td>Western Dress</td>\n",
       "      <td>L</td>\n",
       "      <td>B099NRCT7B</td>\n",
       "      <td>Shipped</td>\n",
       "      <td>0</td>\n",
       "      <td>INR</td>\n",
       "      <td>753.33</td>\n",
       "      <td>PUDUCHERRY</td>\n",
       "      <td>PUDUCHERRY</td>\n",
       "      <td>605008</td>\n",
       "      <td>IN</td>\n",
       "      <td>Unknown</td>\n",
       "      <td>False</td>\n",
       "      <td>Unknown</td>\n",
       "    </tr>\n",
       "    <tr>\n",
       "      <th>4</th>\n",
       "      <td>407-1069790-7240320</td>\n",
       "      <td>2022-04-30</td>\n",
       "      <td>Shipped</td>\n",
       "      <td>Amazon</td>\n",
       "      <td>Amazon.in</td>\n",
       "      <td>Expedited</td>\n",
       "      <td>JNE3671</td>\n",
       "      <td>JNE3671-TU-XXXL</td>\n",
       "      <td>Top</td>\n",
       "      <td>3XL</td>\n",
       "      <td>B098714BZP</td>\n",
       "      <td>Shipped</td>\n",
       "      <td>1</td>\n",
       "      <td>INR</td>\n",
       "      <td>574.00</td>\n",
       "      <td>CHENNAI</td>\n",
       "      <td>TAMIL NADU</td>\n",
       "      <td>600073</td>\n",
       "      <td>IN</td>\n",
       "      <td>Unknown</td>\n",
       "      <td>False</td>\n",
       "      <td>Unknown</td>\n",
       "    </tr>\n",
       "  </tbody>\n",
       "</table>\n",
       "</div>"
      ],
      "text/plain": [
       "              order_id       date                        status fulfilment  \\\n",
       "0  405-8078784-5731545 2022-04-30                     Cancelled   Merchant   \n",
       "1  171-9198151-1101146 2022-04-30  Shipped - Delivered to Buyer   Merchant   \n",
       "2  404-0687676-7273146 2022-04-30                       Shipped     Amazon   \n",
       "3  403-9615377-8133951 2022-04-30                     Cancelled   Merchant   \n",
       "4  407-1069790-7240320 2022-04-30                       Shipped     Amazon   \n",
       "\n",
       "  sales_channel  ship_service_level    style              sku       category  \\\n",
       "0      Amazon.in           Standard   SET389   SET389-KR-NP-S            Set   \n",
       "1      Amazon.in           Standard  JNE3781  JNE3781-KR-XXXL          kurta   \n",
       "2      Amazon.in          Expedited  JNE3371    JNE3371-KR-XL          kurta   \n",
       "3      Amazon.in           Standard    J0341       J0341-DR-L  Western Dress   \n",
       "4      Amazon.in          Expedited  JNE3671  JNE3671-TU-XXXL            Top   \n",
       "\n",
       "  size        asin courier_status  quantity currency  amount    ship_city  \\\n",
       "0    S  B09KXVBD7Z        Shipped         0      INR  647.62       MUMBAI   \n",
       "1  3XL  B09K3WFS32        Shipped         1      INR  406.00    BENGALURU   \n",
       "2   XL  B07WV4JV4D        Shipped         1      INR  329.00  NAVI MUMBAI   \n",
       "3    L  B099NRCT7B        Shipped         0      INR  753.33   PUDUCHERRY   \n",
       "4  3XL  B098714BZP        Shipped         1      INR  574.00      CHENNAI   \n",
       "\n",
       "    ship_state ship_postal_code ship_country  \\\n",
       "0  MAHARASHTRA           400081           IN   \n",
       "1    KARNATAKA           560085           IN   \n",
       "2  MAHARASHTRA           410210           IN   \n",
       "3   PUDUCHERRY           605008           IN   \n",
       "4   TAMIL NADU           600073           IN   \n",
       "\n",
       "                                       promotion_ids    b2b promotion_flag  \n",
       "0                                            Unknown  False        Unknown  \n",
       "1  Amazon PLCC Free-Financing Universal Merchant ...  False          Known  \n",
       "2       IN Core Free Shipping 2015/04/08 23-48-5-108   True          Known  \n",
       "3                                            Unknown  False        Unknown  \n",
       "4                                            Unknown  False        Unknown  "
      ]
     },
     "execution_count": 78,
     "metadata": {},
     "output_type": "execute_result"
    }
   ],
   "source": [
    "pd.set_option('display.max_columns' , None)\n",
    "amazon_df_analysis.head(5)"
   ]
  },
  {
   "cell_type": "code",
   "execution_count": 79,
   "id": "2503aa35",
   "metadata": {},
   "outputs": [
    {
     "data": {
      "image/png": "[encoded data removed]",
      "text/plain": [
       "<Figure size 640x480 with 1 Axes>"
      ]
     },
     "metadata": {},
     "output_type": "display_data"
    }
   ],
   "source": [
    "plt.scatter(amazon_df_analysis['quantity'],amazon_df_analysis['amount'],)\n",
    "plt.xlabel('quantity')\n",
    "plt.ylabel('amount')\n",
    "plt.title('Amount vs Quantity')\n",
    "plt.show()"
   ]
  },
  {
   "cell_type": "code",
   "execution_count": 80,
   "id": "4f9ea773",
   "metadata": {},
   "outputs": [
    {
     "data": {
      "image/png": "[encoded data removed]",
      "text/plain": [
       "<Figure size 640x480 with 2 Axes>"
      ]
     },
     "metadata": {},
     "output_type": "display_data"
    }
   ],
   "source": [
    "numeric_df = amazon_df_analysis.select_dtypes(include = ['number'])\n",
    "\n",
    "sns.heatmap(numeric_df.corr(), annot= True , cmap =\"YlOrBr\")\n",
    "plt.show()"
   ]
  },
  {
   "cell_type": "markdown",
   "id": "925d957b",
   "metadata": {},
   "source": [
    "#### Separating Cancelled orders and Completed orders for better insights"
   ]
  },
  {
   "cell_type": "code",
   "execution_count": 81,
   "id": "3b613e6d",
   "metadata": {},
   "outputs": [],
   "source": [
    "completed_orders = amazon_df_analysis[(amazon_df_analysis['quantity'] > 0) & (amazon_df_analysis['status'] != 'Cancelled')]\n",
    "cancelled_orders = amazon_df_analysis[(amazon_df_analysis['quantity'] == 0) & (amazon_df_analysis['status'] == 'Cancelled')]"
   ]
  },
  {
   "cell_type": "markdown",
   "id": "c22dc247",
   "metadata": {},
   "source": [
    "##### Here we can see most of the sells are between Rs.400 - Rs.800"
   ]
  },
  {
   "cell_type": "code",
   "execution_count": 82,
   "id": "c09b6f41",
   "metadata": {},
   "outputs": [
    {
     "data": {
      "image/png": "[encoded data removed]",
      "text/plain": [
       "<Figure size 800x500 with 1 Axes>"
      ]
     },
     "metadata": {},
     "output_type": "display_data"
    }
   ],
   "source": [
    "#top 5 most selling products\n",
    "fig, my_ax = plt.subplots(figsize=(8,5))\n",
    "\n",
    "sns.histplot(data = completed_orders['amount'], ax=my_ax, binwidth=100, kde=True)\n",
    "plt.grid(linestyle='--',color='#000000')\n",
    "plt.title(\"Distribution of Sales Amount across Count of Orders\")\n",
    "plt.tight_layout()"
   ]
  },
  {
   "cell_type": "markdown",
   "id": "754e2c18",
   "metadata": {},
   "source": [
    "#### Top 5 most selling products "
   ]
  },
  {
   "cell_type": "code",
   "execution_count": 83,
   "id": "f870d887",
   "metadata": {},
   "outputs": [],
   "source": [
    "Top5_Trending_product=( completed_orders.groupby('category')['amount']\n",
    "                       .sum()\n",
    "                       .to_frame()\n",
    "                       .sort_values(by=['amount'],ascending=False)\n",
    "                       .head(5)\n",
    "                      )"
   ]
  },
  {
   "cell_type": "code",
   "execution_count": 84,
   "id": "f1916a2b",
   "metadata": {},
   "outputs": [
    {
     "data": {
      "text/html": [
       "<div>\n",
       "<style scoped>\n",
       "    .dataframe tbody tr th:only-of-type {\n",
       "        vertical-align: middle;\n",
       "    }\n",
       "\n",
       "    .dataframe tbody tr th {\n",
       "        vertical-align: top;\n",
       "    }\n",
       "\n",
       "    .dataframe thead th {\n",
       "        text-align: right;\n",
       "    }\n",
       "</style>\n",
       "<table border=\"1\" class=\"dataframe\">\n",
       "  <thead>\n",
       "    <tr style=\"text-align: right;\">\n",
       "      <th></th>\n",
       "      <th>amount</th>\n",
       "    </tr>\n",
       "    <tr>\n",
       "      <th>category</th>\n",
       "      <th></th>\n",
       "    </tr>\n",
       "  </thead>\n",
       "  <tbody>\n",
       "    <tr>\n",
       "      <th>Set</th>\n",
       "      <td>32794249.0</td>\n",
       "    </tr>\n",
       "    <tr>\n",
       "      <th>kurta</th>\n",
       "      <td>19414686.0</td>\n",
       "    </tr>\n",
       "    <tr>\n",
       "      <th>Western Dress</th>\n",
       "      <td>10105191.0</td>\n",
       "    </tr>\n",
       "    <tr>\n",
       "      <th>Top</th>\n",
       "      <td>4899084.0</td>\n",
       "    </tr>\n",
       "    <tr>\n",
       "      <th>Ethnic Dress</th>\n",
       "      <td>716056.0</td>\n",
       "    </tr>\n",
       "  </tbody>\n",
       "</table>\n",
       "</div>"
      ],
      "text/plain": [
       "                   amount\n",
       "category                 \n",
       "Set            32794249.0\n",
       "kurta          19414686.0\n",
       "Western Dress  10105191.0\n",
       "Top             4899084.0\n",
       "Ethnic Dress     716056.0"
      ]
     },
     "execution_count": 84,
     "metadata": {},
     "output_type": "execute_result"
    }
   ],
   "source": [
    "Top5_Trending_product"
   ]
  },
  {
   "cell_type": "code",
   "execution_count": 85,
   "id": "1ce00f2e",
   "metadata": {},
   "outputs": [
    {
     "data": {
      "image/png": "[encoded data removed]",
      "text/plain": [
       "<Figure size 640x480 with 1 Axes>"
      ]
     },
     "metadata": {},
     "output_type": "display_data"
    }
   ],
   "source": [
    "Top5_Trending_product.plot(kind = 'bar', color = '#60f542')\n",
    "plt.title(\"Total Amont per category\", fontsize = 16 , fontweight = 'bold')\n",
    "plt.ylabel('Total amount in (millions)')\n",
    "plt.grid(axis = 'y', ls = '--',alpha = 0.7)\n",
    "plt.xticks(rotation = 45)\n",
    "plt.legend()\n",
    "plt.tight_layout()\n",
    "plt.show()"
   ]
  },
  {
   "cell_type": "markdown",
   "id": "2eb3accc",
   "metadata": {},
   "source": [
    "#### Top 5 cities orderd from"
   ]
  },
  {
   "cell_type": "code",
   "execution_count": 86,
   "id": "3334a9b1",
   "metadata": {},
   "outputs": [],
   "source": [
    "top5_cities_orderd_from = (\n",
    "    \n",
    "    completed_orders.groupby('ship_city')['amount']\n",
    "    .sum()\n",
    "    .to_frame()\n",
    "    .sort_values(by = ['amount'], ascending = False)\n",
    "    .head()\n",
    "    \n",
    "    )"
   ]
  },
  {
   "cell_type": "code",
   "execution_count": 87,
   "id": "7ce90b54",
   "metadata": {},
   "outputs": [
    {
     "data": {
      "text/html": [
       "<div>\n",
       "<style scoped>\n",
       "    .dataframe tbody tr th:only-of-type {\n",
       "        vertical-align: middle;\n",
       "    }\n",
       "\n",
       "    .dataframe tbody tr th {\n",
       "        vertical-align: top;\n",
       "    }\n",
       "\n",
       "    .dataframe thead th {\n",
       "        text-align: right;\n",
       "    }\n",
       "</style>\n",
       "<table border=\"1\" class=\"dataframe\">\n",
       "  <thead>\n",
       "    <tr style=\"text-align: right;\">\n",
       "      <th></th>\n",
       "      <th>amount</th>\n",
       "    </tr>\n",
       "    <tr>\n",
       "      <th>ship_city</th>\n",
       "      <th></th>\n",
       "    </tr>\n",
       "  </thead>\n",
       "  <tbody>\n",
       "    <tr>\n",
       "      <th>BENGALURU</th>\n",
       "      <td>6108811.0</td>\n",
       "    </tr>\n",
       "    <tr>\n",
       "      <th>HYDERABAD</th>\n",
       "      <td>4305015.0</td>\n",
       "    </tr>\n",
       "    <tr>\n",
       "      <th>MUMBAI</th>\n",
       "      <td>3265390.0</td>\n",
       "    </tr>\n",
       "    <tr>\n",
       "      <th>NEW DELHI</th>\n",
       "      <td>3184684.0</td>\n",
       "    </tr>\n",
       "    <tr>\n",
       "      <th>CHENNAI</th>\n",
       "      <td>2738442.0</td>\n",
       "    </tr>\n",
       "  </tbody>\n",
       "</table>\n",
       "</div>"
      ],
      "text/plain": [
       "              amount\n",
       "ship_city           \n",
       "BENGALURU  6108811.0\n",
       "HYDERABAD  4305015.0\n",
       "MUMBAI     3265390.0\n",
       "NEW DELHI  3184684.0\n",
       "CHENNAI    2738442.0"
      ]
     },
     "execution_count": 87,
     "metadata": {},
     "output_type": "execute_result"
    }
   ],
   "source": [
    "top5_cities_orderd_from"
   ]
  },
  {
   "cell_type": "code",
   "execution_count": 88,
   "id": "7389fb3b",
   "metadata": {},
   "outputs": [
    {
     "data": {
      "image/png": "[encoded data removed]",
      "text/plain": [
       "<Figure size 640x480 with 1 Axes>"
      ]
     },
     "metadata": {},
     "output_type": "display_data"
    }
   ],
   "source": [
    "top5_cities_orderd_from.plot(kind = 'bar', color = '#032e6e')\n",
    "plt.title(\"Total 5 cities ordered from \", fontsize = 16 , fontweight = 'bold')\n",
    "plt.ylabel('Total amount in (millions)')\n",
    "plt.grid(axis = 'y', ls = '--',alpha = 0.7)\n",
    "plt.xticks(rotation = 45 , ha = 'right')\n",
    "plt.legend()\n",
    "plt.tight_layout()\n",
    "plt.show()"
   ]
  },
  {
   "cell_type": "markdown",
   "id": "cc56fd09",
   "metadata": {},
   "source": [
    "#### Most demanded product size"
   ]
  },
  {
   "cell_type": "code",
   "execution_count": 89,
   "id": "edc0acdd",
   "metadata": {},
   "outputs": [],
   "source": [
    "most_preferred_size  = (\n",
    "    \n",
    "    completed_orders.groupby('size')['amount']\n",
    "    .sum()\n",
    "    .to_frame()\n",
    "    .sort_values(by = ['amount'], ascending = False)\n",
    "    .head(20)\n",
    ")"
   ]
  },
  {
   "cell_type": "code",
   "execution_count": 90,
   "id": "fad9c5bf",
   "metadata": {},
   "outputs": [
    {
     "data": {
      "text/plain": [
       "size\n",
       "M       12050453.0\n",
       "L       11597484.0\n",
       "XL      10891839.0\n",
       "XXL      9417087.0\n",
       "S        9185840.0\n",
       "3XL      8089779.0\n",
       "XS       6017025.0\n",
       "6XL       503937.0\n",
       "5XL       372712.0\n",
       "4XL       285140.0\n",
       "Free      185170.0\n",
       "Name: amount, dtype: float64"
      ]
     },
     "execution_count": 90,
     "metadata": {},
     "output_type": "execute_result"
    }
   ],
   "source": [
    "most_preferred_size['amount']"
   ]
  },
  {
   "cell_type": "code",
   "execution_count": 91,
   "id": "6d386cae",
   "metadata": {},
   "outputs": [
    {
     "data": {
      "image/png": "[encoded data removed]",
      "text/plain": [
       "<Figure size 1200x600 with 2 Axes>"
      ]
     },
     "metadata": {},
     "output_type": "display_data"
    }
   ],
   "source": [
    "# create subplots : 1 row, 2 column\n",
    "fig, axes = plt.subplots(1,2, figsize = (12,6))\n",
    "\n",
    "# Bar chart\n",
    "axes[0].barh(most_preferred_size.index, most_preferred_size['amount'], color = '#0c89e8')\n",
    "axes[0].invert_yaxis() #Reverse the order of y-axis because barh plots from bottom to top\n",
    "axes[0].set_xlabel('Total Sales Amount')\n",
    "axes[0].set_ylabel('Size')\n",
    "axes[0].set_title(\"Most Demanded Product Sizes (Bar chart)\", fontsize = 14 , fontweight = 'bold', y = -0.25)\n",
    "axes[0].grid(axis = 'x', ls = '--',alpha = 0.7)\n",
    "\n",
    "#pie chart\n",
    "mylabels = ['M','L','XL', 'XXL', 'S', '3XL', 'XS', '6XL','5XL','4XL','Free' ]\n",
    "myexplode = [0,0,0,0,0,0,0,0,0.1,0.2,0.3]\n",
    "axes[1].pie(\n",
    "        most_preferred_size['amount'] , \n",
    "        labels = mylabels, \n",
    "        explode = myexplode, \n",
    "        autopct='%.2f%%', \n",
    "        startangle = 90,\n",
    "        labeldistance = 1.2 , \n",
    "        textprops = {'fontsize' : 8} \n",
    ")\n",
    "axes[1].set_title('Size Distribution (Pie Chart)', fontweight = 'bold',fontsize = 14, y = -0.3)\n",
    "axes[1].legend(loc = 'upper left', bbox_to_anchor = (1,1), fontsize = 8)\n",
    "\n",
    "plt.tight_layout()\n",
    "plt.show()"
   ]
  },
  {
   "cell_type": "markdown",
   "id": "43ba0227",
   "metadata": {},
   "source": [
    "#### Most amount generated in the months "
   ]
  },
  {
   "cell_type": "code",
   "execution_count": 92,
   "id": "a3d07516",
   "metadata": {},
   "outputs": [],
   "source": [
    "completed_orders['month'] = completed_orders['date'].dt.strftime('%B')"
   ]
  },
  {
   "cell_type": "code",
   "execution_count": 93,
   "id": "695799f8",
   "metadata": {},
   "outputs": [],
   "source": [
    "amount_generated_months = (\n",
    "    \n",
    "    completed_orders.groupby('month')['amount']\n",
    "    .sum()\n",
    "    .to_frame()\n",
    "    .sort_values(by = ['amount'] , ascending = False)\n",
    ")"
   ]
  },
  {
   "cell_type": "code",
   "execution_count": 94,
   "id": "97afb367",
   "metadata": {},
   "outputs": [
    {
     "data": {
      "text/html": [
       "<div>\n",
       "<style scoped>\n",
       "    .dataframe tbody tr th:only-of-type {\n",
       "        vertical-align: middle;\n",
       "    }\n",
       "\n",
       "    .dataframe tbody tr th {\n",
       "        vertical-align: top;\n",
       "    }\n",
       "\n",
       "    .dataframe thead th {\n",
       "        text-align: right;\n",
       "    }\n",
       "</style>\n",
       "<table border=\"1\" class=\"dataframe\">\n",
       "  <thead>\n",
       "    <tr style=\"text-align: right;\">\n",
       "      <th></th>\n",
       "      <th>amount</th>\n",
       "    </tr>\n",
       "    <tr>\n",
       "      <th>month</th>\n",
       "      <th></th>\n",
       "    </tr>\n",
       "  </thead>\n",
       "  <tbody>\n",
       "    <tr>\n",
       "      <th>April</th>\n",
       "      <td>25385216.0</td>\n",
       "    </tr>\n",
       "    <tr>\n",
       "      <th>May</th>\n",
       "      <td>22766652.0</td>\n",
       "    </tr>\n",
       "    <tr>\n",
       "      <th>June</th>\n",
       "      <td>20352539.0</td>\n",
       "    </tr>\n",
       "    <tr>\n",
       "      <th>March</th>\n",
       "      <td>92059.0</td>\n",
       "    </tr>\n",
       "  </tbody>\n",
       "</table>\n",
       "</div>"
      ],
      "text/plain": [
       "           amount\n",
       "month            \n",
       "April  25385216.0\n",
       "May    22766652.0\n",
       "June   20352539.0\n",
       "March     92059.0"
      ]
     },
     "execution_count": 94,
     "metadata": {},
     "output_type": "execute_result"
    }
   ],
   "source": [
    "amount_generated_months"
   ]
  },
  {
   "cell_type": "markdown",
   "id": "233158ed",
   "metadata": {},
   "source": [
    "##### It is clearly visible that amount generated in march(Rs.95510) is the lowest and is significantly lesser than the others ."
   ]
  },
  {
   "cell_type": "code",
   "execution_count": 95,
   "id": "6ea4900a",
   "metadata": {},
   "outputs": [
    {
     "data": {
      "image/png": "[encoded data removed]",
      "text/plain": [
       "<Figure size 640x480 with 1 Axes>"
      ]
     },
     "metadata": {},
     "output_type": "display_data"
    }
   ],
   "source": [
    "amount_generated_months.plot(kind = 'bar' ,color = '#f5a607' )\n",
    "plt.title('Amount generated per month', fontsize = 14, fontweight = 'bold')\n",
    "plt.ylabel('Amount in (millions)')\n",
    "plt.xticks(rotation = 0)\n",
    "plt.tight_layout()\n",
    "plt.show()"
   ]
  },
  {
   "cell_type": "code",
   "execution_count": 96,
   "id": "4ea0e108",
   "metadata": {},
   "outputs": [
    {
     "data": {
      "text/plain": [
       "count     152.000000\n",
       "mean      605.651316\n",
       "std       223.265419\n",
       "min       248.000000\n",
       "25%       449.000000\n",
       "50%       561.000000\n",
       "75%       730.000000\n",
       "max      1201.000000\n",
       "Name: amount, dtype: float64"
      ]
     },
     "execution_count": 96,
     "metadata": {},
     "output_type": "execute_result"
    }
   ],
   "source": [
    "completed_orders[completed_orders['month'] == 'March']['amount'].describe()"
   ]
  },
  {
   "cell_type": "markdown",
   "id": "79f2b477",
   "metadata": {},
   "source": [
    "#### Highest amount ordered date wise"
   ]
  },
  {
   "cell_type": "code",
   "execution_count": 97,
   "id": "082e51f1",
   "metadata": {},
   "outputs": [],
   "source": [
    "orders_date_wise = (\n",
    "    completed_orders.groupby('date')\n",
    "    .agg({'quantity' : 'count','amount' : 'sum'})\n",
    "    .sort_values(by = ['amount'],ascending = False)\n",
    "    .head()\n",
    ")"
   ]
  },
  {
   "cell_type": "code",
   "execution_count": 98,
   "id": "72dfff56",
   "metadata": {},
   "outputs": [
    {
     "data": {
      "text/html": [
       "<div>\n",
       "<style scoped>\n",
       "    .dataframe tbody tr th:only-of-type {\n",
       "        vertical-align: middle;\n",
       "    }\n",
       "\n",
       "    .dataframe tbody tr th {\n",
       "        vertical-align: top;\n",
       "    }\n",
       "\n",
       "    .dataframe thead th {\n",
       "        text-align: right;\n",
       "    }\n",
       "</style>\n",
       "<table border=\"1\" class=\"dataframe\">\n",
       "  <thead>\n",
       "    <tr style=\"text-align: right;\">\n",
       "      <th></th>\n",
       "      <th>quantity</th>\n",
       "      <th>amount</th>\n",
       "    </tr>\n",
       "    <tr>\n",
       "      <th>date</th>\n",
       "      <th></th>\n",
       "      <th></th>\n",
       "    </tr>\n",
       "  </thead>\n",
       "  <tbody>\n",
       "    <tr>\n",
       "      <th>2022-05-04</th>\n",
       "      <td>1708</td>\n",
       "      <td>1049666.0</td>\n",
       "    </tr>\n",
       "    <tr>\n",
       "      <th>2022-05-02</th>\n",
       "      <td>1761</td>\n",
       "      <td>1043905.0</td>\n",
       "    </tr>\n",
       "    <tr>\n",
       "      <th>2022-05-03</th>\n",
       "      <td>1748</td>\n",
       "      <td>1041483.0</td>\n",
       "    </tr>\n",
       "    <tr>\n",
       "      <th>2022-04-14</th>\n",
       "      <td>1617</td>\n",
       "      <td>991051.0</td>\n",
       "    </tr>\n",
       "    <tr>\n",
       "      <th>2022-04-20</th>\n",
       "      <td>1626</td>\n",
       "      <td>986530.0</td>\n",
       "    </tr>\n",
       "  </tbody>\n",
       "</table>\n",
       "</div>"
      ],
      "text/plain": [
       "            quantity     amount\n",
       "date                           \n",
       "2022-05-04      1708  1049666.0\n",
       "2022-05-02      1761  1043905.0\n",
       "2022-05-03      1748  1041483.0\n",
       "2022-04-14      1617   991051.0\n",
       "2022-04-20      1626   986530.0"
      ]
     },
     "execution_count": 98,
     "metadata": {},
     "output_type": "execute_result"
    }
   ],
   "source": [
    "orders_date_wise"
   ]
  },
  {
   "cell_type": "markdown",
   "id": "2aea6403",
   "metadata": {},
   "source": [
    "#### Highest quantity sold date wise"
   ]
  },
  {
   "cell_type": "code",
   "execution_count": 99,
   "id": "f9b6dbd5",
   "metadata": {},
   "outputs": [],
   "source": [
    "date_wise_qty = (\n",
    "    completed_orders.groupby('date')\n",
    "    .agg({'quantity' : 'count','amount' : 'sum'})\n",
    "    .sort_values(by = ['quantity'],ascending = False)\n",
    "    .head()\n",
    ")"
   ]
  },
  {
   "cell_type": "code",
   "execution_count": 100,
   "id": "a8b468cf",
   "metadata": {},
   "outputs": [
    {
     "data": {
      "text/html": [
       "<div>\n",
       "<style scoped>\n",
       "    .dataframe tbody tr th:only-of-type {\n",
       "        vertical-align: middle;\n",
       "    }\n",
       "\n",
       "    .dataframe tbody tr th {\n",
       "        vertical-align: top;\n",
       "    }\n",
       "\n",
       "    .dataframe thead th {\n",
       "        text-align: right;\n",
       "    }\n",
       "</style>\n",
       "<table border=\"1\" class=\"dataframe\">\n",
       "  <thead>\n",
       "    <tr style=\"text-align: right;\">\n",
       "      <th></th>\n",
       "      <th>quantity</th>\n",
       "      <th>amount</th>\n",
       "    </tr>\n",
       "    <tr>\n",
       "      <th>date</th>\n",
       "      <th></th>\n",
       "      <th></th>\n",
       "    </tr>\n",
       "  </thead>\n",
       "  <tbody>\n",
       "    <tr>\n",
       "      <th>2022-05-02</th>\n",
       "      <td>1761</td>\n",
       "      <td>1043905.0</td>\n",
       "    </tr>\n",
       "    <tr>\n",
       "      <th>2022-05-03</th>\n",
       "      <td>1748</td>\n",
       "      <td>1041483.0</td>\n",
       "    </tr>\n",
       "    <tr>\n",
       "      <th>2022-05-04</th>\n",
       "      <td>1708</td>\n",
       "      <td>1049666.0</td>\n",
       "    </tr>\n",
       "    <tr>\n",
       "      <th>2022-04-20</th>\n",
       "      <td>1626</td>\n",
       "      <td>986530.0</td>\n",
       "    </tr>\n",
       "    <tr>\n",
       "      <th>2022-04-14</th>\n",
       "      <td>1617</td>\n",
       "      <td>991051.0</td>\n",
       "    </tr>\n",
       "  </tbody>\n",
       "</table>\n",
       "</div>"
      ],
      "text/plain": [
       "            quantity     amount\n",
       "date                           \n",
       "2022-05-02      1761  1043905.0\n",
       "2022-05-03      1748  1041483.0\n",
       "2022-05-04      1708  1049666.0\n",
       "2022-04-20      1626   986530.0\n",
       "2022-04-14      1617   991051.0"
      ]
     },
     "execution_count": 100,
     "metadata": {},
     "output_type": "execute_result"
    }
   ],
   "source": [
    "date_wise_qty"
   ]
  },
  {
   "cell_type": "markdown",
   "id": "ba70f47b",
   "metadata": {},
   "source": [
    "#### Order status breakdown"
   ]
  },
  {
   "cell_type": "code",
   "execution_count": 101,
   "id": "572d517f",
   "metadata": {},
   "outputs": [],
   "source": [
    "order_status =(\n",
    "    \n",
    "    completed_orders.groupby('status')\n",
    "    .agg({'quantity':'count','amount':'sum'})\n",
    "    .sort_values(by = ['amount'] , ascending = False)\n",
    "\n",
    ")\n",
    "    "
   ]
  },
  {
   "cell_type": "code",
   "execution_count": 102,
   "id": "f71bd4db",
   "metadata": {
    "scrolled": false
   },
   "outputs": [
    {
     "data": {
      "text/html": [
       "<div>\n",
       "<style scoped>\n",
       "    .dataframe tbody tr th:only-of-type {\n",
       "        vertical-align: middle;\n",
       "    }\n",
       "\n",
       "    .dataframe tbody tr th {\n",
       "        vertical-align: top;\n",
       "    }\n",
       "\n",
       "    .dataframe thead th {\n",
       "        text-align: right;\n",
       "    }\n",
       "</style>\n",
       "<table border=\"1\" class=\"dataframe\">\n",
       "  <thead>\n",
       "    <tr style=\"text-align: right;\">\n",
       "      <th></th>\n",
       "      <th>quantity</th>\n",
       "      <th>amount</th>\n",
       "    </tr>\n",
       "    <tr>\n",
       "      <th>status</th>\n",
       "      <th></th>\n",
       "      <th></th>\n",
       "    </tr>\n",
       "  </thead>\n",
       "  <tbody>\n",
       "    <tr>\n",
       "      <th>Shipped</th>\n",
       "      <td>77688</td>\n",
       "      <td>48196827.0</td>\n",
       "    </tr>\n",
       "    <tr>\n",
       "      <th>Shipped - Delivered to Buyer</th>\n",
       "      <td>28754</td>\n",
       "      <td>17830916.0</td>\n",
       "    </tr>\n",
       "    <tr>\n",
       "      <th>Shipped - Returned to Seller</th>\n",
       "      <td>1947</td>\n",
       "      <td>1205512.0</td>\n",
       "    </tr>\n",
       "    <tr>\n",
       "      <th>Shipped - Picked Up</th>\n",
       "      <td>973</td>\n",
       "      <td>631140.0</td>\n",
       "    </tr>\n",
       "    <tr>\n",
       "      <th>Pending</th>\n",
       "      <td>656</td>\n",
       "      <td>406900.0</td>\n",
       "    </tr>\n",
       "    <tr>\n",
       "      <th>Pending - Waiting for Pick Up</th>\n",
       "      <td>281</td>\n",
       "      <td>185630.0</td>\n",
       "    </tr>\n",
       "    <tr>\n",
       "      <th>Shipped - Returning to Seller</th>\n",
       "      <td>145</td>\n",
       "      <td>100466.0</td>\n",
       "    </tr>\n",
       "    <tr>\n",
       "      <th>Shipped - Out for Delivery</th>\n",
       "      <td>35</td>\n",
       "      <td>23807.0</td>\n",
       "    </tr>\n",
       "    <tr>\n",
       "      <th>Shipped - Rejected by Buyer</th>\n",
       "      <td>11</td>\n",
       "      <td>7295.0</td>\n",
       "    </tr>\n",
       "    <tr>\n",
       "      <th>Shipping</th>\n",
       "      <td>8</td>\n",
       "      <td>4840.0</td>\n",
       "    </tr>\n",
       "    <tr>\n",
       "      <th>Shipped - Lost in Transit</th>\n",
       "      <td>5</td>\n",
       "      <td>1997.0</td>\n",
       "    </tr>\n",
       "    <tr>\n",
       "      <th>Shipped - Damaged</th>\n",
       "      <td>1</td>\n",
       "      <td>1136.0</td>\n",
       "    </tr>\n",
       "  </tbody>\n",
       "</table>\n",
       "</div>"
      ],
      "text/plain": [
       "                               quantity      amount\n",
       "status                                             \n",
       "Shipped                           77688  48196827.0\n",
       "Shipped - Delivered to Buyer      28754  17830916.0\n",
       "Shipped - Returned to Seller       1947   1205512.0\n",
       "Shipped - Picked Up                 973    631140.0\n",
       "Pending                             656    406900.0\n",
       "Pending - Waiting for Pick Up       281    185630.0\n",
       "Shipped - Returning to Seller       145    100466.0\n",
       "Shipped - Out for Delivery           35     23807.0\n",
       "Shipped - Rejected by Buyer          11      7295.0\n",
       "Shipping                              8      4840.0\n",
       "Shipped - Lost in Transit             5      1997.0\n",
       "Shipped - Damaged                     1      1136.0"
      ]
     },
     "execution_count": 102,
     "metadata": {},
     "output_type": "execute_result"
    }
   ],
   "source": [
    "order_status"
   ]
  },
  {
   "cell_type": "markdown",
   "id": "5be02af9",
   "metadata": {},
   "source": [
    "#### sales percentage by fullfillment"
   ]
  },
  {
   "cell_type": "code",
   "execution_count": 103,
   "id": "af5d3e6e",
   "metadata": {},
   "outputs": [],
   "source": [
    "sales_percentage_by_fulfilment = round((\n",
    "    \n",
    "    completed_orders.groupby('fulfilment')\n",
    "    .agg({'quantity' : 'count', 'amount' : 'sum'})\n",
    "    .sort_values(by = ['amount'] , ascending = False)['amount'] /68596466.0   \n",
    ")*100)"
   ]
  },
  {
   "cell_type": "code",
   "execution_count": 104,
   "id": "0bb573f6",
   "metadata": {},
   "outputs": [
    {
     "data": {
      "text/plain": [
       "fulfilment\n",
       "Amazon      71.0\n",
       "Merchant    29.0\n",
       "Name: amount, dtype: float64"
      ]
     },
     "execution_count": 104,
     "metadata": {},
     "output_type": "execute_result"
    }
   ],
   "source": [
    "sales_percentage_by_fulfilment"
   ]
  },
  {
   "cell_type": "markdown",
   "id": "7b7a5c1d",
   "metadata": {},
   "source": [
    "#### Around 71% of fulfilment are done through Amazon"
   ]
  },
  {
   "cell_type": "code",
   "execution_count": 105,
   "id": "cf501c7e",
   "metadata": {},
   "outputs": [
    {
     "data": {
      "image/png": "[encoded data removed]",
      "text/plain": [
       "<Figure size 600x400 with 1 Axes>"
      ]
     },
     "metadata": {},
     "output_type": "display_data"
    }
   ],
   "source": [
    "plt.figure(figsize = (6,4))\n",
    "\n",
    "sales_percentage_by_fulfilment.plot(kind = 'pie',autopct='%.2f%%'\n",
    "                                    , startangle = 90,colors = ['#1f77b4','#0fd419'],ylabel = '')\n",
    "plt.legend()\n",
    "plt.title(\"Sales Percentage by filfilment\",fontweight = 'bold')\n",
    "plt.tight_layout()\n",
    "plt.show()"
   ]
  },
  {
   "cell_type": "markdown",
   "id": "d6e0c39e",
   "metadata": {},
   "source": [
    "#### How many amount of products were cancelled?"
   ]
  },
  {
   "cell_type": "code",
   "execution_count": 106,
   "id": "c9ffe6d4",
   "metadata": {},
   "outputs": [
    {
     "data": {
      "text/plain": [
       "quantity      12693.00\n",
       "amount      7687942.57\n",
       "dtype: float64"
      ]
     },
     "execution_count": 106,
     "metadata": {},
     "output_type": "execute_result"
    }
   ],
   "source": [
    "cancelled_orders[['quantity','amount']].agg({'quantity' : 'count', 'amount':'sum'})"
   ]
  },
  {
   "cell_type": "markdown",
   "id": "940ff40b",
   "metadata": {},
   "source": [
    "##### Most products cancelled are of Rs.600"
   ]
  },
  {
   "cell_type": "code",
   "execution_count": 107,
   "id": "bb20968c",
   "metadata": {},
   "outputs": [
    {
     "data": {
      "image/png": "[encoded data removed]",
      "text/plain": [
       "<Figure size 800x500 with 1 Axes>"
      ]
     },
     "metadata": {},
     "output_type": "display_data"
    }
   ],
   "source": [
    "#top 5 most cancelled products\n",
    "fig, my_ax = plt.subplots(figsize=(8,5))\n",
    "\n",
    "sns.histplot(data = cancelled_orders['amount'], ax=my_ax, binwidth=100, kde=True)\n",
    "plt.grid(linestyle='--',color='#000000')\n",
    "plt.title(\"Distribution of Sales Amount across Count of Orders in cancelled products\", weight = 'bold')\n",
    "plt.tight_layout()"
   ]
  },
  {
   "cell_type": "markdown",
   "id": "3140a676",
   "metadata": {},
   "source": [
    "#### Top 5 most cancelled product category "
   ]
  },
  {
   "cell_type": "code",
   "execution_count": 108,
   "id": "c4bbcec8",
   "metadata": {},
   "outputs": [],
   "source": [
    "Top5_cancelled_product=( cancelled_orders.groupby('category')['amount']\n",
    "                       .sum()\n",
    "                       .to_frame()\n",
    "                       .sort_values(by=['amount'],ascending=False)\n",
    "                       .head(5)\n",
    "                      )"
   ]
  },
  {
   "cell_type": "code",
   "execution_count": 109,
   "id": "1e62dbc3",
   "metadata": {},
   "outputs": [
    {
     "data": {
      "text/html": [
       "<div>\n",
       "<style scoped>\n",
       "    .dataframe tbody tr th:only-of-type {\n",
       "        vertical-align: middle;\n",
       "    }\n",
       "\n",
       "    .dataframe tbody tr th {\n",
       "        vertical-align: top;\n",
       "    }\n",
       "\n",
       "    .dataframe thead th {\n",
       "        text-align: right;\n",
       "    }\n",
       "</style>\n",
       "<table border=\"1\" class=\"dataframe\">\n",
       "  <thead>\n",
       "    <tr style=\"text-align: right;\">\n",
       "      <th></th>\n",
       "      <th>amount</th>\n",
       "    </tr>\n",
       "    <tr>\n",
       "      <th>category</th>\n",
       "      <th></th>\n",
       "    </tr>\n",
       "  </thead>\n",
       "  <tbody>\n",
       "    <tr>\n",
       "      <th>Set</th>\n",
       "      <td>3367411.01</td>\n",
       "    </tr>\n",
       "    <tr>\n",
       "      <th>kurta</th>\n",
       "      <td>2695005.22</td>\n",
       "    </tr>\n",
       "    <tr>\n",
       "      <th>Western Dress</th>\n",
       "      <td>1060593.12</td>\n",
       "    </tr>\n",
       "    <tr>\n",
       "      <th>Top</th>\n",
       "      <td>414494.30</td>\n",
       "    </tr>\n",
       "    <tr>\n",
       "      <th>Ethnic Dress</th>\n",
       "      <td>69831.66</td>\n",
       "    </tr>\n",
       "  </tbody>\n",
       "</table>\n",
       "</div>"
      ],
      "text/plain": [
       "                   amount\n",
       "category                 \n",
       "Set            3367411.01\n",
       "kurta          2695005.22\n",
       "Western Dress  1060593.12\n",
       "Top             414494.30\n",
       "Ethnic Dress     69831.66"
      ]
     },
     "execution_count": 109,
     "metadata": {},
     "output_type": "execute_result"
    }
   ],
   "source": [
    "Top5_cancelled_product"
   ]
  },
  {
   "cell_type": "code",
   "execution_count": 110,
   "id": "1da3b6c7",
   "metadata": {},
   "outputs": [
    {
     "data": {
      "image/png": "[encoded data removed]",
      "text/plain": [
       "<Figure size 640x480 with 1 Axes>"
      ]
     },
     "metadata": {},
     "output_type": "display_data"
    }
   ],
   "source": [
    "Top5_cancelled_product.plot(kind = 'bar', color = 'Green')\n",
    "plt.title(\"Total Cancelled amount per category\", fontsize = 16 , fontweight = 'bold')\n",
    "plt.ylabel('Total amount in (millions)')\n",
    "plt.grid(axis = 'y', ls = '--',alpha = 0.7)\n",
    "plt.xticks(rotation = 45 , ha = 'right')\n",
    "plt.tight_layout()\n",
    "plt.show()"
   ]
  },
  {
   "cell_type": "markdown",
   "id": "887aa2f4",
   "metadata": {},
   "source": [
    "#### Cancellation fulfilment percentage"
   ]
  },
  {
   "cell_type": "code",
   "execution_count": 112,
   "id": "36f9b6f8",
   "metadata": {},
   "outputs": [],
   "source": [
    "cancelled_percentage_by_fulfilment = round((\n",
    "    \n",
    "    cancelled_orders.groupby('fulfilment')\n",
    "    .agg({'quantity' : 'count', 'amount' : 'sum'})\n",
    "    .sort_values(by = ['amount'] , ascending = False)['amount'] / 7687942.57\n",
    ")*100)"
   ]
  },
  {
   "cell_type": "code",
   "execution_count": 113,
   "id": "3a442709",
   "metadata": {},
   "outputs": [
    {
     "data": {
      "text/plain": [
       "fulfilment\n",
       "Merchant    54.0\n",
       "Amazon      46.0\n",
       "Name: amount, dtype: float64"
      ]
     },
     "execution_count": 113,
     "metadata": {},
     "output_type": "execute_result"
    }
   ],
   "source": [
    "cancelled_percentage_by_fulfilment"
   ]
  },
  {
   "cell_type": "code",
   "execution_count": 115,
   "id": "8b2f0424",
   "metadata": {},
   "outputs": [
    {
     "data": {
      "image/png": "[encoded data removed]",
      "text/plain": [
       "<Figure size 600x400 with 1 Axes>"
      ]
     },
     "metadata": {},
     "output_type": "display_data"
    }
   ],
   "source": [
    "plt.figure(figsize = (6,4))\n",
    "\n",
    "cancelled_percentage_by_fulfilment.plot(kind = 'pie',autopct='%.2f%%'\n",
    "                                    , startangle = 90,colors = ['#FF6F61','#6B5B95'],ylabel = '')\n",
    "plt.legend()\n",
    "plt.title(\"Cancelled Percentage by fulfilment\",fontweight = 'bold')\n",
    "plt.tight_layout()\n",
    "plt.show()"
   ]
  },
  {
   "cell_type": "markdown",
   "id": "30a9a120",
   "metadata": {},
   "source": [
    "### 7. Insights and Recommendations\n",
    "\n",
    "#### **Sales and Order Trends**\n",
    "- Most orders are in the lower price range, showing a preference for affordable products.  \n",
    "- High-value purchases are relatively rare, suggesting that premium pricing strategies may need improvement.  \n",
    "- A large number of orders consist of single-unit purchases, indicating that bulk-buying is not very common among customers.  \n",
    "\n",
    "#### **Order Cancellations and Returns**\n",
    "- Certain product categories have higher cancellation rates, possibly due to stock unavailability, pricing concerns, or unclear product descriptions.  \n",
    "- Orders fulfilled by third-party sellers have more cancellations and returns compared to Amazon-fulfilled orders, pointing to logistics or service issues.  \n",
    "\n",
    "#### **Fulfillment and Logistics**\n",
    "- Amazon-fulfilled orders account for a large share of total sales, reinforcing customer trust in Amazon’s logistics network.  \n",
    "- Merchant-fulfilled orders show a higher rate of delays and cancellations, suggesting inefficiencies in third-party fulfillment processes.  \n",
    "\n",
    "#### **Suggested Improvements**\n",
    "- **Pricing Strategies:**  \n",
    "  - Adjust pricing for high-value products by testing discounts, bundles, or loyalty rewards.  \n",
    "  - Use demand-based pricing models to maximize conversions.  \n",
    "\n",
    "- **Inventory Management:**  \n",
    "  - Improve stock forecasting to ensure availability for high-demand products.  \n",
    "  - Reduce cancellations by keeping real-time track of stock levels.  \n",
    "\n",
    "- **Fulfillment Processes:**  \n",
    "  - Encourage sellers to opt for **Fulfilled by Amazon (FBA)** for better delivery efficiency and customer satisfaction.  \n",
    "  - Provide third-party merchants with guidelines and resources to improve their fulfillment operations.  \n",
    "\n",
    "---\n",
    "\n",
    "### 8. Conclusion\n",
    "\n",
    "#### **Key Takeaways**\n",
    "- Most sales come from lower-priced products, while high-end items have limited traction.  \n",
    "- Merchant-fulfilled orders tend to have more cancellations, affecting overall customer satisfaction.  \n",
    "- Amazon’s fulfillment system remains the preferred option due to its reliability and efficiency.  \n",
    "\n",
    "#### **Future Scope of Analysis**\n",
    "- Segment customers based on buying patterns to personalize recommendations and marketing strategies.  \n",
    "- Analyze how discounts and promotions influence repeat purchases and customer retention.  \n",
    "- Study how product ratings and reviews correlate with return rates to identify potential quality issues.  \n",
    "\n",
    "#### **Potential Areas of Further Study**\n",
    "- Use **A/B testing** to measure how price changes impact conversions.  \n",
    "- Analyze seasonal trends to improve inventory planning.  \n",
    "- Develop predictive models to identify orders with a high cancellation risk before they happen.  \n"
   ]
  },
  {
   "cell_type": "markdown",
   "id": "834b98f3",
   "metadata": {},
   "source": [
    "### 10. References & Appendix\n",
    "\n",
    "#### Data sources:\n",
    "The dataset used for this analysis was sourced from Kaggle: **Amazon Sale Report Dataset**.\n",
    "\n",
    "#### Additional resources and tools used:\n",
    "- **Python libraries**: Pandas, NumPy, Matplotlib, Seaborn.  \n",
    "- **Jupyter Notebook** for data analysis and visualization.  \n",
    "- **Additional resources**:  \n",
    "  - Amazon Seller Central documentation  \n",
    "  - Kaggle forums  \n",
    "  - Tutorials for data cleaning and analysis  \n"
   ]
  }
 ],
 "metadata": {
  "kernelspec": {
   "display_name": "Python 3 (ipykernel)",
   "language": "python",
   "name": "python3"
  },
  "language_info": {
   "codemirror_mode": {
    "name": "ipython",
    "version": 3
   },
   "file_extension": ".py",
   "mimetype": "text/x-python",
   "name": "python",
   "nbconvert_exporter": "python",
   "pygments_lexer": "ipython3",
   "version": "3.11.7"
  }
 },
 "nbformat": 4,
 "nbformat_minor": 5
}
